{
 "cells": [
  {
   "cell_type": "markdown",
   "id": "275f644d",
   "metadata": {},
   "source": [
    "Assignment\n",
    "\n",
    "In this assignment you will work with a beer data set. Please provide an answer to the questions below. Answer as many questions as possible:\n",
    "\n",
    "1. Rank the top 3 breweries which produce the strongest beers.\n",
    "2. Which year did beers enjoy the highest ratings?\n",
    "3. Based on the users' ratings, which factors are important among taste, aroma, appearance, and palette?\n",
    "4. If you were to recommend 3 beers to your friends based on this data, which ones would you recommend?\n",
    "5. Which beer style seems to be the favourite based on the reviews written by users? How does written reviews compare to overall review score for the beer style?\n",
    "\n",
    "Data Description\n",
    "\n",
    "The provided compressed file BeerDataScienceProject.tar.bz2 contains data about beers and their reviews. It has the following columns:\n",
    "\n",
    "beer_ABV - alcohol by volume\n",
    "beer_beerId - beer ID\n",
    "beer_brewerId - beer brewer ID\n",
    "beer_name - beer name\n",
    "beer_style - beer style\n",
    "review_appearance - review on the beer's appearance\n",
    "review_palette - review on the beer's palette (colours)\n",
    "review_overall - overall beer review\n",
    "review_taste - review on the beer's taste\n",
    "review_profileName - profile name of the reviewer\n",
    "review_aroma - review on the beer's aroma\n",
    "review_text - the full text of the review\n",
    "review_time - timestamp when the review was made"
   ]
  },
  {
   "cell_type": "code",
   "execution_count": null,
   "id": "e97edc2f",
   "metadata": {},
   "outputs": [],
   "source": [
    "import pandas as pd\n",
    "import matplotlib.pyplot as plt\n",
    "import seaborn as sns\n",
    "\n",
    "from nltk import download\n",
    "from nltk.sentiment.vader import SentimentIntensityAnalyzer"
   ]
  },
  {
   "cell_type": "code",
   "execution_count": 2,
   "id": "9bc65ee6",
   "metadata": {},
   "outputs": [],
   "source": [
    "df = pd.read_csv(\"BeerDataScienceProject.tar.bz2\", compression=\"bz2\")"
   ]
  },
  {
   "cell_type": "code",
   "execution_count": 3,
   "id": "ed1b10ea",
   "metadata": {},
   "outputs": [
    {
     "data": {
      "text/html": [
       "<div>\n",
       "<style scoped>\n",
       "    .dataframe tbody tr th:only-of-type {\n",
       "        vertical-align: middle;\n",
       "    }\n",
       "\n",
       "    .dataframe tbody tr th {\n",
       "        vertical-align: top;\n",
       "    }\n",
       "\n",
       "    .dataframe thead th {\n",
       "        text-align: right;\n",
       "    }\n",
       "</style>\n",
       "<table border=\"1\" class=\"dataframe\">\n",
       "  <thead>\n",
       "    <tr style=\"text-align: right;\">\n",
       "      <th></th>\n",
       "      <th>beer_ABV</th>\n",
       "      <th>beer_beerId</th>\n",
       "      <th>beer_brewerId</th>\n",
       "      <th>beer_name</th>\n",
       "      <th>beer_style</th>\n",
       "      <th>review_appearance</th>\n",
       "      <th>review_palette</th>\n",
       "      <th>review_overall</th>\n",
       "      <th>review_taste</th>\n",
       "      <th>review_profileName</th>\n",
       "      <th>review_aroma</th>\n",
       "      <th>review_text</th>\n",
       "      <th>review_time</th>\n",
       "    </tr>\n",
       "  </thead>\n",
       "  <tbody>\n",
       "    <tr>\n",
       "      <th>0</th>\n",
       "      <td>5.0</td>\n",
       "      <td>47986</td>\n",
       "      <td>10325</td>\n",
       "      <td>Sausa Weizen</td>\n",
       "      <td>Hefeweizen</td>\n",
       "      <td>2.5</td>\n",
       "      <td>2.0</td>\n",
       "      <td>1.5</td>\n",
       "      <td>1.5</td>\n",
       "      <td>stcules</td>\n",
       "      <td>1.5</td>\n",
       "      <td>A lot of foam. But a lot. In the smell some ba...</td>\n",
       "      <td>1234817823</td>\n",
       "    </tr>\n",
       "    <tr>\n",
       "      <th>1</th>\n",
       "      <td>6.2</td>\n",
       "      <td>48213</td>\n",
       "      <td>10325</td>\n",
       "      <td>Red Moon</td>\n",
       "      <td>English Strong Ale</td>\n",
       "      <td>3.0</td>\n",
       "      <td>2.5</td>\n",
       "      <td>3.0</td>\n",
       "      <td>3.0</td>\n",
       "      <td>stcules</td>\n",
       "      <td>3.0</td>\n",
       "      <td>Dark red color, light beige foam, average. In ...</td>\n",
       "      <td>1235915097</td>\n",
       "    </tr>\n",
       "    <tr>\n",
       "      <th>2</th>\n",
       "      <td>6.5</td>\n",
       "      <td>48215</td>\n",
       "      <td>10325</td>\n",
       "      <td>Black Horse Black Beer</td>\n",
       "      <td>Foreign / Export Stout</td>\n",
       "      <td>3.0</td>\n",
       "      <td>2.5</td>\n",
       "      <td>3.0</td>\n",
       "      <td>3.0</td>\n",
       "      <td>stcules</td>\n",
       "      <td>3.0</td>\n",
       "      <td>Almost totally black. Beige foam, quite compac...</td>\n",
       "      <td>1235916604</td>\n",
       "    </tr>\n",
       "    <tr>\n",
       "      <th>3</th>\n",
       "      <td>5.0</td>\n",
       "      <td>47969</td>\n",
       "      <td>10325</td>\n",
       "      <td>Sausa Pils</td>\n",
       "      <td>German Pilsener</td>\n",
       "      <td>3.5</td>\n",
       "      <td>3.0</td>\n",
       "      <td>3.0</td>\n",
       "      <td>2.5</td>\n",
       "      <td>stcules</td>\n",
       "      <td>3.0</td>\n",
       "      <td>Golden yellow color. White, compact foam, quit...</td>\n",
       "      <td>1234725145</td>\n",
       "    </tr>\n",
       "    <tr>\n",
       "      <th>4</th>\n",
       "      <td>7.7</td>\n",
       "      <td>64883</td>\n",
       "      <td>1075</td>\n",
       "      <td>Cauldron DIPA</td>\n",
       "      <td>American Double / Imperial IPA</td>\n",
       "      <td>4.0</td>\n",
       "      <td>4.5</td>\n",
       "      <td>4.0</td>\n",
       "      <td>4.0</td>\n",
       "      <td>johnmichaelsen</td>\n",
       "      <td>4.5</td>\n",
       "      <td>According to the website, the style for the Ca...</td>\n",
       "      <td>1293735206</td>\n",
       "    </tr>\n",
       "  </tbody>\n",
       "</table>\n",
       "</div>"
      ],
      "text/plain": [
       "   beer_ABV  beer_beerId  beer_brewerId               beer_name  \\\n",
       "0       5.0        47986          10325            Sausa Weizen   \n",
       "1       6.2        48213          10325                Red Moon   \n",
       "2       6.5        48215          10325  Black Horse Black Beer   \n",
       "3       5.0        47969          10325              Sausa Pils   \n",
       "4       7.7        64883           1075           Cauldron DIPA   \n",
       "\n",
       "                       beer_style  review_appearance  review_palette  \\\n",
       "0                      Hefeweizen                2.5             2.0   \n",
       "1              English Strong Ale                3.0             2.5   \n",
       "2          Foreign / Export Stout                3.0             2.5   \n",
       "3                 German Pilsener                3.5             3.0   \n",
       "4  American Double / Imperial IPA                4.0             4.5   \n",
       "\n",
       "   review_overall  review_taste review_profileName  review_aroma  \\\n",
       "0             1.5           1.5            stcules           1.5   \n",
       "1             3.0           3.0            stcules           3.0   \n",
       "2             3.0           3.0            stcules           3.0   \n",
       "3             3.0           2.5            stcules           3.0   \n",
       "4             4.0           4.0     johnmichaelsen           4.5   \n",
       "\n",
       "                                         review_text  review_time  \n",
       "0  A lot of foam. But a lot. In the smell some ba...   1234817823  \n",
       "1  Dark red color, light beige foam, average. In ...   1235915097  \n",
       "2  Almost totally black. Beige foam, quite compac...   1235916604  \n",
       "3  Golden yellow color. White, compact foam, quit...   1234725145  \n",
       "4  According to the website, the style for the Ca...   1293735206  "
      ]
     },
     "execution_count": 3,
     "metadata": {},
     "output_type": "execute_result"
    }
   ],
   "source": [
    "df.head()"
   ]
  },
  {
   "cell_type": "markdown",
   "id": "311f6a02",
   "metadata": {},
   "source": [
    "# pre-question data analysis"
   ]
  },
  {
   "cell_type": "code",
   "execution_count": 21,
   "id": "55c717b2",
   "metadata": {},
   "outputs": [
    {
     "name": "stdout",
     "output_type": "stream",
     "text": [
      "<class 'pandas.core.frame.DataFrame'>\n",
      "RangeIndex: 528870 entries, 0 to 528869\n",
      "Data columns (total 13 columns):\n",
      " #   Column              Non-Null Count   Dtype  \n",
      "---  ------              --------------   -----  \n",
      " 0   beer_ABV            528870 non-null  float64\n",
      " 1   beer_beerId         528870 non-null  int64  \n",
      " 2   beer_brewerId       528870 non-null  int64  \n",
      " 3   beer_name           528870 non-null  object \n",
      " 4   beer_style          528870 non-null  object \n",
      " 5   review_appearance   528870 non-null  float64\n",
      " 6   review_palette      528870 non-null  float64\n",
      " 7   review_overall      528870 non-null  float64\n",
      " 8   review_taste        528870 non-null  float64\n",
      " 9   review_profileName  528755 non-null  object \n",
      " 10  review_aroma        528870 non-null  float64\n",
      " 11  review_text         528870 non-null  object \n",
      " 12  review_time         528870 non-null  int64  \n",
      "dtypes: float64(6), int64(3), object(4)\n",
      "memory usage: 52.5+ MB\n"
     ]
    }
   ],
   "source": [
    "df.info()"
   ]
  },
  {
   "cell_type": "markdown",
   "id": "4535692d",
   "metadata": {},
   "source": [
    "Three features have null values: beer_ABV, review_profileName, review_text. 8 features are numerical, the other 4 object. These four features seem like categorical features."
   ]
  },
  {
   "cell_type": "code",
   "execution_count": 5,
   "id": "ca7dc628",
   "metadata": {},
   "outputs": [
    {
     "data": {
      "text/plain": [
       "Sierra Nevada Celebration Ale                 3000\n",
       "Sierra Nevada Pale Ale                        2587\n",
       "Founders Breakfast Stout                      2502\n",
       "Sierra Nevada Bigfoot Barleywine Style Ale    2492\n",
       "La Fin Du Monde                               2483\n",
       "                                              ... \n",
       "Ur-Saalfelder                                    1\n",
       "Maribo Slots Pilsner 3,5%                        1\n",
       "Zwiesel Löwentrunk                               1\n",
       "Maribo Danish Gold                               1\n",
       "Sausa Weizen                                     1\n",
       "Name: beer_name, Length: 18339, dtype: int64"
      ]
     },
     "execution_count": 5,
     "metadata": {},
     "output_type": "execute_result"
    }
   ],
   "source": [
    "df[\"beer_name\"].value_counts()"
   ]
  },
  {
   "cell_type": "code",
   "execution_count": 6,
   "id": "673ce484",
   "metadata": {},
   "outputs": [
    {
     "data": {
      "text/plain": [
       "American IPA                        43369\n",
       "American Double / Imperial IPA      26106\n",
       "American Double / Imperial Stout    23354\n",
       "American Pale Ale (APA)             20520\n",
       "American Amber / Red Ale            18731\n",
       "                                    ...  \n",
       "Sahti                                 139\n",
       "Kvass                                 118\n",
       "Gose                                   90\n",
       "Happoshu                               55\n",
       "Faro                                   53\n",
       "Name: beer_style, Length: 104, dtype: int64"
      ]
     },
     "execution_count": 6,
     "metadata": {},
     "output_type": "execute_result"
    }
   ],
   "source": [
    "df[\"beer_style\"].value_counts()"
   ]
  },
  {
   "cell_type": "code",
   "execution_count": 7,
   "id": "7a980797",
   "metadata": {},
   "outputs": [
    {
     "data": {
      "text/plain": [
       "northyorksammy    1858\n",
       "mikesgroove       1403\n",
       "BuckeyeNation     1298\n",
       "womencantsail     1238\n",
       "Phyl21ca          1164\n",
       "                  ... \n",
       "timquinn             1\n",
       "Engineerbob          1\n",
       "Paka                 1\n",
       "ChadS99SVT           1\n",
       "EP6UIZ               1\n",
       "Name: review_profileName, Length: 22800, dtype: int64"
      ]
     },
     "execution_count": 7,
     "metadata": {},
     "output_type": "execute_result"
    }
   ],
   "source": [
    "df[\"review_profileName\"].value_counts()"
   ]
  },
  {
   "cell_type": "code",
   "execution_count": 8,
   "id": "59e61783",
   "metadata": {},
   "outputs": [
    {
     "data": {
      "text/plain": [
       "#NAME?                                                                                                                                                                                                                                                                                                                                                                                                                                                                                                                                                                                                                                                                                                                                                                                                                                                                                                                                                                                                                                                                                                                                                                                                                                                                                                                                                                                                                                                                                                                                                                                                                                                                                                                                                                                                                                                                                            92\n",
       "Pours a light yellow color, nice carbonation, small white head, with some sticky lacing left behind. The nose is malty, with some hops, slight caramel. The taste is slightly sweet, malty, slight hop note. Light body. Not drinkable, would not buy again.                                                                                                                                                                                                                                                                                                                                                                                                                                                                                                                                                                                                                                                                                                                                                                                                                                                                                                                                                                                                                                                                                                                                                                                                                                                                                                                                                                                                                                                                                                                                                                                                                                      10\n",
       "Sort of a typical pale lager that tried to be better - without success. Pours a light yellow, with a small, close to a 1/2 finger head. Their is a ring of lace at the top, where when you first pour the beer the head settles. Nothing underneath that. Not much of a smell. Bit of hops, some malt, and a little more bittering. Light taste. Sort of a mellow sweetness, mingled with a dry bitterness. Mouthfeel is light, like water. But, it is drinkable and it is thirst quenching. Extra half point for that.                                                                                                                                                                                                                                                                                                                                                                                                                                                                                                                                                                                                                                                                                                                                                                                                                                                                                                                                                                                                                                                                                                                                                                                                                                                                                                                                                                            3\n",
       "NIce stout, although can be considered and it is catalogued as a porter. ANyway, the foam is great, it sticks to the glass as it has to, and its colour is not white as most of the beers. IT has a toasted grains flavor I like, and it is not as tiring as other beers of this style.                                                                                                                                                                                                                                                                                                                                                                                                                                                                                                                                                                                                                                                                                                                                                                                                                                                                                                                                                                                                                                                                                                                                                                                                                                                                                                                                                                                                                                                                                                                                                                                                            3\n",
       "Cute 250ml Kiddy cans ( hide em in yer jeans from teacher)noxious sweet kiddy taste (Hides the alcohol well that you intend to get gooned on)_.seems like another winning marketing device for Molson who have staked out the kiddy market for their own. Nothing special or note worthy about this beverage (I say beverage because it has as little in common with real beer as a soft drink) with the exception of warnings on the can to serve extremely chilled..I can see my gag reflex kicking in if I had to drink this Popsicle-sweet green beer at room temp. Bland pale yellow appeance..no head or aromas to speak of and a sweet corn taste devoid of hops with an indescribably annoying sweet after taste (corn syrup mixed with stale chip oil is the closest I can come in description) The typical mega brewer let down in the taste department is not the real story here. I think the mindset behind the kiddy kan (250ml) the 6% ABV and the 4-pack is a priceless statement on the devolution of mass Canadian beer marketing politics. They obviously see the kiddies (teens and arrested development twenty-somethings as the main market for their mass produced slop but they must salve their federal nannies who pay lip service to the tragedy of teen addictions and auto deaths (Yet the feds profit handsomely from the arrangement via booze tax and monopoly alcohol sales) So they show good corporate citizenship by packaging their little kiddy alcohol bombers in small 2 gulp cans and 4-packs (and sell more units for teens hungry to get gooned on this wobbly pop)classic modern Canadian compromise of a once proud brewing tradition. If you guzzle 8 of these buzz bombs before the Averil concert try not to yak on your crew of fall off something high or wet the bed when you pass out.lets be careful eh?drink a lot but dont blame us eh?     3\n",
       "                                                                                                                                                                                                                                                                                                                                                                                                                                                                                                                                                                                                                                                                                                                                                                                                                                                                                                                                                                                                                                                                                                                                                                                                                                                                                                                                                                                                                                                                                                                                                                                                                                                                                                                                                                                                                                                                                                  ..\n",
       "Had this one in their winter pack, man was this good. Appearance was classy: murky, bright gold color with a good, solid head. The smell was quite sharp with aromas of citrus and definitely hops. The taste was a bit too polished: not too bitter, not too sweet. The mouthfeel was great at first. Awesome carbonation with some great fizzy bubbles rushing upward through the glass. However, I felt once I was half way through, it was getting kind of flat. Overall, this is one heck of a good IPA from my wonderful Green Mountain neighbor to the north.                                                                                                                                                                                                                                                                                                                                                                                                                                                                                                                                                                                                                                                                                                                                                                                                                                                                                                                                                                                                                                                                                                                                                                                                                                                                                                                               1\n",
       "Poured from a 12oz bottle into a US tumbler pint glass. A: The beer is a dark gold color, with a thin off-white head that fades quickly and leaves a thin lace on the glass. S: The aroma is of caramel, light malts, tea, honey and hops, with a touch of fruit. T: The taste is well-balanced with flavors of caramel, honey and citrus up front. The mildly bitter hops presence comes in quickly and provides a good balance. The malt character is hearty but could be considered thin for style despite the sweetness. The after-taste is slightly sweet. M: Crisp and smooth, medium body, medium carbonation, clean finish. D: Tasty, goes down easily, not too filling, decent kick, good representation of style, this is a nice EIPA to drink a few of when you're in the mood for the style. It wouldn't normally be my first choice, but I wouldn't be too disappointed if I were to be stuck with it as my best option.                                                                                                                                                                                                                                                                                                                                                                                                                                                                                                                                                                                                                                                                                                                                                                                                                                                                                                                                                              1\n",
       "Poured from a 12oz. bottle into a pint glass. A - Murky amber gold color with one-finger white head which retreats quickly. Good lacing though. S - Very hoppy nose of light citrus notes. Typical American IPA hop nose, but very well-balanced and smooth. Can actually smell the hops very well, not just sweet notes, very good. T - Very crisp, low malt beer. Hop notes from nose come through especially well next to the light malt and combine for an especially pleasant beer. M - Medium-bodied with hop bitterness left in mouth for an overall excellent mouthfeel. D - Good, but perhaps could be better considering the lower-end ABV, I'm not complaining though; good. This beer is an excellent session beer in my opinion. It is heavy enough to win over my love of robust IPAs but light and manageable enough to drink all night. Simple but very delicious.                                                                                                                                                                                                                                                                                                                                                                                                                                                                                                                                                                                                                                                                                                                                                                                                                                                                                                                                                                                                                 1\n",
       "A nice crisp everyday beer, but not a typical IPA. Pours a cloudy gold with a nice size white head and good lacing. Smell is not much for an IPA. Taste is fairly good, a nice crisp beer with a little hops bit. No malty taste, unusual for an English IPA. Mouthfeel is average, crisp tasting beer - not too watery but not that rich either. Drinkability is good. This would be a nice summertime session beer or lawnmower beer. I could drink a lot more than one. As an English IPA, I have had better, but not a bad beer overall.                                                                                                                                                                                                                                                                                                                                                                                                                                                                                                                                                                                                                                                                                                                                                                                                                                                                                                                                                                                                                                                                                                                                                                                                                                                                                                                                                       1\n",
       "I ordered a mug of this beer at Schnitzelhaus, a local German restaurant, here in Tampa. The beer was very dark in the glass, and actually looked similar to root beer with a small frothy head. It had a nice spicy caramel smell, with hints of apple. It was a medium bodied beer with a hoppy finish. However the hoppy taste was not overbearing, so overall it was very drinkable beer. I really enjoyed it and felt it was a good representation of beers I drank while in Germany.                                                                                                                                                                                                                                                                                                                                                                                                                                                                                                                                                                                                                                                                                                                                                                                                                                                                                                                                                                                                                                                                                                                                                                                                                                                                                                                                                                                                         1\n",
       "Name: review_text, Length: 528371, dtype: int64"
      ]
     },
     "execution_count": 8,
     "metadata": {},
     "output_type": "execute_result"
    }
   ],
   "source": [
    "df[\"review_text\"].value_counts()"
   ]
  },
  {
   "cell_type": "code",
   "execution_count": 20,
   "id": "75285708",
   "metadata": {},
   "outputs": [],
   "source": [
    "df[\"review_text\"].fillna(method='ffill', inplace=True)"
   ]
  },
  {
   "cell_type": "code",
   "execution_count": 9,
   "id": "1dc96a85",
   "metadata": {},
   "outputs": [],
   "source": [
    "df_numerical = df.drop(['beer_name', 'beer_style', 'review_profileName', 'review_text'], axis=1)"
   ]
  },
  {
   "cell_type": "code",
   "execution_count": 10,
   "id": "e485c954",
   "metadata": {},
   "outputs": [
    {
     "data": {
      "text/html": [
       "<div>\n",
       "<style scoped>\n",
       "    .dataframe tbody tr th:only-of-type {\n",
       "        vertical-align: middle;\n",
       "    }\n",
       "\n",
       "    .dataframe tbody tr th {\n",
       "        vertical-align: top;\n",
       "    }\n",
       "\n",
       "    .dataframe thead th {\n",
       "        text-align: right;\n",
       "    }\n",
       "</style>\n",
       "<table border=\"1\" class=\"dataframe\">\n",
       "  <thead>\n",
       "    <tr style=\"text-align: right;\">\n",
       "      <th></th>\n",
       "      <th>beer_ABV</th>\n",
       "      <th>beer_beerId</th>\n",
       "      <th>beer_brewerId</th>\n",
       "      <th>review_appearance</th>\n",
       "      <th>review_palette</th>\n",
       "      <th>review_overall</th>\n",
       "      <th>review_taste</th>\n",
       "      <th>review_aroma</th>\n",
       "      <th>review_time</th>\n",
       "    </tr>\n",
       "  </thead>\n",
       "  <tbody>\n",
       "    <tr>\n",
       "      <th>count</th>\n",
       "      <td>508590.000000</td>\n",
       "      <td>528870.000000</td>\n",
       "      <td>528870.000000</td>\n",
       "      <td>528870.000000</td>\n",
       "      <td>528870.000000</td>\n",
       "      <td>528870.000000</td>\n",
       "      <td>528870.000000</td>\n",
       "      <td>528870.000000</td>\n",
       "      <td>5.288700e+05</td>\n",
       "    </tr>\n",
       "    <tr>\n",
       "      <th>mean</th>\n",
       "      <td>7.017442</td>\n",
       "      <td>22098.466016</td>\n",
       "      <td>2598.423429</td>\n",
       "      <td>3.864522</td>\n",
       "      <td>3.758926</td>\n",
       "      <td>3.833197</td>\n",
       "      <td>3.765993</td>\n",
       "      <td>3.817350</td>\n",
       "      <td>1.224885e+09</td>\n",
       "    </tr>\n",
       "    <tr>\n",
       "      <th>std</th>\n",
       "      <td>2.204460</td>\n",
       "      <td>22158.284352</td>\n",
       "      <td>5281.805350</td>\n",
       "      <td>0.604010</td>\n",
       "      <td>0.685335</td>\n",
       "      <td>0.709962</td>\n",
       "      <td>0.669018</td>\n",
       "      <td>0.718903</td>\n",
       "      <td>7.605600e+07</td>\n",
       "    </tr>\n",
       "    <tr>\n",
       "      <th>min</th>\n",
       "      <td>0.010000</td>\n",
       "      <td>3.000000</td>\n",
       "      <td>1.000000</td>\n",
       "      <td>0.000000</td>\n",
       "      <td>1.000000</td>\n",
       "      <td>0.000000</td>\n",
       "      <td>1.000000</td>\n",
       "      <td>1.000000</td>\n",
       "      <td>8.843904e+08</td>\n",
       "    </tr>\n",
       "    <tr>\n",
       "      <th>25%</th>\n",
       "      <td>5.300000</td>\n",
       "      <td>1745.000000</td>\n",
       "      <td>132.000000</td>\n",
       "      <td>3.500000</td>\n",
       "      <td>3.500000</td>\n",
       "      <td>3.500000</td>\n",
       "      <td>3.500000</td>\n",
       "      <td>3.500000</td>\n",
       "      <td>1.174613e+09</td>\n",
       "    </tr>\n",
       "    <tr>\n",
       "      <th>50%</th>\n",
       "      <td>6.500000</td>\n",
       "      <td>14368.000000</td>\n",
       "      <td>394.000000</td>\n",
       "      <td>4.000000</td>\n",
       "      <td>4.000000</td>\n",
       "      <td>4.000000</td>\n",
       "      <td>4.000000</td>\n",
       "      <td>4.000000</td>\n",
       "      <td>1.240366e+09</td>\n",
       "    </tr>\n",
       "    <tr>\n",
       "      <th>75%</th>\n",
       "      <td>8.500000</td>\n",
       "      <td>40528.000000</td>\n",
       "      <td>1475.000000</td>\n",
       "      <td>4.000000</td>\n",
       "      <td>4.000000</td>\n",
       "      <td>4.500000</td>\n",
       "      <td>4.000000</td>\n",
       "      <td>4.500000</td>\n",
       "      <td>1.288560e+09</td>\n",
       "    </tr>\n",
       "    <tr>\n",
       "      <th>max</th>\n",
       "      <td>57.700000</td>\n",
       "      <td>77310.000000</td>\n",
       "      <td>27980.000000</td>\n",
       "      <td>5.000000</td>\n",
       "      <td>5.000000</td>\n",
       "      <td>5.000000</td>\n",
       "      <td>5.000000</td>\n",
       "      <td>5.000000</td>\n",
       "      <td>1.326277e+09</td>\n",
       "    </tr>\n",
       "  </tbody>\n",
       "</table>\n",
       "</div>"
      ],
      "text/plain": [
       "            beer_ABV    beer_beerId  beer_brewerId  review_appearance  \\\n",
       "count  508590.000000  528870.000000  528870.000000      528870.000000   \n",
       "mean        7.017442   22098.466016    2598.423429           3.864522   \n",
       "std         2.204460   22158.284352    5281.805350           0.604010   \n",
       "min         0.010000       3.000000       1.000000           0.000000   \n",
       "25%         5.300000    1745.000000     132.000000           3.500000   \n",
       "50%         6.500000   14368.000000     394.000000           4.000000   \n",
       "75%         8.500000   40528.000000    1475.000000           4.000000   \n",
       "max        57.700000   77310.000000   27980.000000           5.000000   \n",
       "\n",
       "       review_palette  review_overall   review_taste   review_aroma  \\\n",
       "count   528870.000000   528870.000000  528870.000000  528870.000000   \n",
       "mean         3.758926        3.833197       3.765993       3.817350   \n",
       "std          0.685335        0.709962       0.669018       0.718903   \n",
       "min          1.000000        0.000000       1.000000       1.000000   \n",
       "25%          3.500000        3.500000       3.500000       3.500000   \n",
       "50%          4.000000        4.000000       4.000000       4.000000   \n",
       "75%          4.000000        4.500000       4.000000       4.500000   \n",
       "max          5.000000        5.000000       5.000000       5.000000   \n",
       "\n",
       "        review_time  \n",
       "count  5.288700e+05  \n",
       "mean   1.224885e+09  \n",
       "std    7.605600e+07  \n",
       "min    8.843904e+08  \n",
       "25%    1.174613e+09  \n",
       "50%    1.240366e+09  \n",
       "75%    1.288560e+09  \n",
       "max    1.326277e+09  "
      ]
     },
     "execution_count": 10,
     "metadata": {},
     "output_type": "execute_result"
    }
   ],
   "source": [
    "df_numerical.describe()"
   ]
  },
  {
   "cell_type": "code",
   "execution_count": 11,
   "id": "17c2c4c2",
   "metadata": {},
   "outputs": [
    {
     "data": {
      "text/html": [
       "<div>\n",
       "<style scoped>\n",
       "    .dataframe tbody tr th:only-of-type {\n",
       "        vertical-align: middle;\n",
       "    }\n",
       "\n",
       "    .dataframe tbody tr th {\n",
       "        vertical-align: top;\n",
       "    }\n",
       "\n",
       "    .dataframe thead th {\n",
       "        text-align: right;\n",
       "    }\n",
       "</style>\n",
       "<table border=\"1\" class=\"dataframe\">\n",
       "  <thead>\n",
       "    <tr style=\"text-align: right;\">\n",
       "      <th></th>\n",
       "      <th>beer_ABV</th>\n",
       "      <th>beer_beerId</th>\n",
       "      <th>beer_brewerId</th>\n",
       "      <th>review_appearance</th>\n",
       "      <th>review_palette</th>\n",
       "      <th>review_overall</th>\n",
       "      <th>review_taste</th>\n",
       "      <th>review_aroma</th>\n",
       "      <th>review_time</th>\n",
       "    </tr>\n",
       "  </thead>\n",
       "  <tbody>\n",
       "    <tr>\n",
       "      <th>39601</th>\n",
       "      <td>4.0</td>\n",
       "      <td>3806</td>\n",
       "      <td>1413</td>\n",
       "      <td>0.0</td>\n",
       "      <td>2.0</td>\n",
       "      <td>0.0</td>\n",
       "      <td>3.0</td>\n",
       "      <td>2.0</td>\n",
       "      <td>1030197670</td>\n",
       "    </tr>\n",
       "    <tr>\n",
       "      <th>39617</th>\n",
       "      <td>4.0</td>\n",
       "      <td>3804</td>\n",
       "      <td>1413</td>\n",
       "      <td>0.0</td>\n",
       "      <td>4.0</td>\n",
       "      <td>0.0</td>\n",
       "      <td>2.0</td>\n",
       "      <td>2.0</td>\n",
       "      <td>1030267158</td>\n",
       "    </tr>\n",
       "    <tr>\n",
       "      <th>39638</th>\n",
       "      <td>4.0</td>\n",
       "      <td>3810</td>\n",
       "      <td>1413</td>\n",
       "      <td>0.0</td>\n",
       "      <td>3.0</td>\n",
       "      <td>0.0</td>\n",
       "      <td>2.0</td>\n",
       "      <td>2.0</td>\n",
       "      <td>1030266889</td>\n",
       "    </tr>\n",
       "  </tbody>\n",
       "</table>\n",
       "</div>"
      ],
      "text/plain": [
       "       beer_ABV  beer_beerId  beer_brewerId  review_appearance  \\\n",
       "39601       4.0         3806           1413                0.0   \n",
       "39617       4.0         3804           1413                0.0   \n",
       "39638       4.0         3810           1413                0.0   \n",
       "\n",
       "       review_palette  review_overall  review_taste  review_aroma  review_time  \n",
       "39601             2.0             0.0           3.0           2.0   1030197670  \n",
       "39617             4.0             0.0           2.0           2.0   1030267158  \n",
       "39638             3.0             0.0           2.0           2.0   1030266889  "
      ]
     },
     "execution_count": 11,
     "metadata": {},
     "output_type": "execute_result"
    }
   ],
   "source": [
    "df_numerical[df_numerical['review_appearance']==0]"
   ]
  },
  {
   "cell_type": "code",
   "execution_count": 12,
   "id": "21dd6fc3",
   "metadata": {},
   "outputs": [
    {
     "data": {
      "text/html": [
       "<div>\n",
       "<style scoped>\n",
       "    .dataframe tbody tr th:only-of-type {\n",
       "        vertical-align: middle;\n",
       "    }\n",
       "\n",
       "    .dataframe tbody tr th {\n",
       "        vertical-align: top;\n",
       "    }\n",
       "\n",
       "    .dataframe thead th {\n",
       "        text-align: right;\n",
       "    }\n",
       "</style>\n",
       "<table border=\"1\" class=\"dataframe\">\n",
       "  <thead>\n",
       "    <tr style=\"text-align: right;\">\n",
       "      <th></th>\n",
       "      <th>beer_ABV</th>\n",
       "      <th>beer_beerId</th>\n",
       "      <th>beer_brewerId</th>\n",
       "      <th>review_appearance</th>\n",
       "      <th>review_palette</th>\n",
       "      <th>review_overall</th>\n",
       "      <th>review_taste</th>\n",
       "      <th>review_aroma</th>\n",
       "      <th>review_time</th>\n",
       "    </tr>\n",
       "  </thead>\n",
       "  <tbody>\n",
       "    <tr>\n",
       "      <th>39601</th>\n",
       "      <td>4.0</td>\n",
       "      <td>3806</td>\n",
       "      <td>1413</td>\n",
       "      <td>0.0</td>\n",
       "      <td>2.0</td>\n",
       "      <td>0.0</td>\n",
       "      <td>3.0</td>\n",
       "      <td>2.0</td>\n",
       "      <td>1030197670</td>\n",
       "    </tr>\n",
       "    <tr>\n",
       "      <th>39617</th>\n",
       "      <td>4.0</td>\n",
       "      <td>3804</td>\n",
       "      <td>1413</td>\n",
       "      <td>0.0</td>\n",
       "      <td>4.0</td>\n",
       "      <td>0.0</td>\n",
       "      <td>2.0</td>\n",
       "      <td>2.0</td>\n",
       "      <td>1030267158</td>\n",
       "    </tr>\n",
       "    <tr>\n",
       "      <th>39638</th>\n",
       "      <td>4.0</td>\n",
       "      <td>3810</td>\n",
       "      <td>1413</td>\n",
       "      <td>0.0</td>\n",
       "      <td>3.0</td>\n",
       "      <td>0.0</td>\n",
       "      <td>2.0</td>\n",
       "      <td>2.0</td>\n",
       "      <td>1030266889</td>\n",
       "    </tr>\n",
       "  </tbody>\n",
       "</table>\n",
       "</div>"
      ],
      "text/plain": [
       "       beer_ABV  beer_beerId  beer_brewerId  review_appearance  \\\n",
       "39601       4.0         3806           1413                0.0   \n",
       "39617       4.0         3804           1413                0.0   \n",
       "39638       4.0         3810           1413                0.0   \n",
       "\n",
       "       review_palette  review_overall  review_taste  review_aroma  review_time  \n",
       "39601             2.0             0.0           3.0           2.0   1030197670  \n",
       "39617             4.0             0.0           2.0           2.0   1030267158  \n",
       "39638             3.0             0.0           2.0           2.0   1030266889  "
      ]
     },
     "execution_count": 12,
     "metadata": {},
     "output_type": "execute_result"
    }
   ],
   "source": [
    "df_numerical[df_numerical['review_overall']==0]"
   ]
  },
  {
   "cell_type": "markdown",
   "id": "cc70096a",
   "metadata": {},
   "source": [
    "There records have zero review scores in both review_appearance and review_overall columns. Usually the reviews start with 1, so we can replace them by 1. "
   ]
  },
  {
   "cell_type": "code",
   "execution_count": 13,
   "id": "fc2b2330",
   "metadata": {},
   "outputs": [],
   "source": [
    "df.loc[df['review_appearance']==0, 'review_appearance']=1.0\n",
    "df.loc[df['review_overall']==0, 'review_overall']=1.0"
   ]
  },
  {
   "cell_type": "code",
   "execution_count": 14,
   "id": "8e5a1518",
   "metadata": {},
   "outputs": [],
   "source": [
    "df['beer_ABV'].fillna(value=df['beer_ABV'].mean(), inplace=True)"
   ]
  },
  {
   "cell_type": "code",
   "execution_count": 15,
   "id": "627f0b37",
   "metadata": {},
   "outputs": [],
   "source": [
    "df_numerical = df.drop(['beer_name', 'beer_style', 'review_profileName', 'review_text'], axis=1)"
   ]
  },
  {
   "cell_type": "code",
   "execution_count": 16,
   "id": "8994376d",
   "metadata": {},
   "outputs": [
    {
     "data": {
      "text/html": [
       "<div>\n",
       "<style scoped>\n",
       "    .dataframe tbody tr th:only-of-type {\n",
       "        vertical-align: middle;\n",
       "    }\n",
       "\n",
       "    .dataframe tbody tr th {\n",
       "        vertical-align: top;\n",
       "    }\n",
       "\n",
       "    .dataframe thead th {\n",
       "        text-align: right;\n",
       "    }\n",
       "</style>\n",
       "<table border=\"1\" class=\"dataframe\">\n",
       "  <thead>\n",
       "    <tr style=\"text-align: right;\">\n",
       "      <th></th>\n",
       "      <th>beer_ABV</th>\n",
       "      <th>beer_beerId</th>\n",
       "      <th>beer_brewerId</th>\n",
       "      <th>review_appearance</th>\n",
       "      <th>review_palette</th>\n",
       "      <th>review_overall</th>\n",
       "      <th>review_taste</th>\n",
       "      <th>review_aroma</th>\n",
       "      <th>review_time</th>\n",
       "    </tr>\n",
       "  </thead>\n",
       "  <tbody>\n",
       "    <tr>\n",
       "      <th>count</th>\n",
       "      <td>528870.000000</td>\n",
       "      <td>528870.000000</td>\n",
       "      <td>528870.000000</td>\n",
       "      <td>528870.000000</td>\n",
       "      <td>528870.000000</td>\n",
       "      <td>528870.000000</td>\n",
       "      <td>528870.000000</td>\n",
       "      <td>528870.000000</td>\n",
       "      <td>5.288700e+05</td>\n",
       "    </tr>\n",
       "    <tr>\n",
       "      <th>mean</th>\n",
       "      <td>7.017442</td>\n",
       "      <td>22098.466016</td>\n",
       "      <td>2598.423429</td>\n",
       "      <td>3.864528</td>\n",
       "      <td>3.758926</td>\n",
       "      <td>3.833203</td>\n",
       "      <td>3.765993</td>\n",
       "      <td>3.817350</td>\n",
       "      <td>1.224885e+09</td>\n",
       "    </tr>\n",
       "    <tr>\n",
       "      <th>std</th>\n",
       "      <td>2.161781</td>\n",
       "      <td>22158.284352</td>\n",
       "      <td>5281.805350</td>\n",
       "      <td>0.603979</td>\n",
       "      <td>0.685335</td>\n",
       "      <td>0.709935</td>\n",
       "      <td>0.669018</td>\n",
       "      <td>0.718903</td>\n",
       "      <td>7.605600e+07</td>\n",
       "    </tr>\n",
       "    <tr>\n",
       "      <th>min</th>\n",
       "      <td>0.010000</td>\n",
       "      <td>3.000000</td>\n",
       "      <td>1.000000</td>\n",
       "      <td>1.000000</td>\n",
       "      <td>1.000000</td>\n",
       "      <td>1.000000</td>\n",
       "      <td>1.000000</td>\n",
       "      <td>1.000000</td>\n",
       "      <td>8.843904e+08</td>\n",
       "    </tr>\n",
       "    <tr>\n",
       "      <th>25%</th>\n",
       "      <td>5.300000</td>\n",
       "      <td>1745.000000</td>\n",
       "      <td>132.000000</td>\n",
       "      <td>3.500000</td>\n",
       "      <td>3.500000</td>\n",
       "      <td>3.500000</td>\n",
       "      <td>3.500000</td>\n",
       "      <td>3.500000</td>\n",
       "      <td>1.174613e+09</td>\n",
       "    </tr>\n",
       "    <tr>\n",
       "      <th>50%</th>\n",
       "      <td>6.500000</td>\n",
       "      <td>14368.000000</td>\n",
       "      <td>394.000000</td>\n",
       "      <td>4.000000</td>\n",
       "      <td>4.000000</td>\n",
       "      <td>4.000000</td>\n",
       "      <td>4.000000</td>\n",
       "      <td>4.000000</td>\n",
       "      <td>1.240366e+09</td>\n",
       "    </tr>\n",
       "    <tr>\n",
       "      <th>75%</th>\n",
       "      <td>8.500000</td>\n",
       "      <td>40528.000000</td>\n",
       "      <td>1475.000000</td>\n",
       "      <td>4.000000</td>\n",
       "      <td>4.000000</td>\n",
       "      <td>4.500000</td>\n",
       "      <td>4.000000</td>\n",
       "      <td>4.500000</td>\n",
       "      <td>1.288560e+09</td>\n",
       "    </tr>\n",
       "    <tr>\n",
       "      <th>max</th>\n",
       "      <td>57.700000</td>\n",
       "      <td>77310.000000</td>\n",
       "      <td>27980.000000</td>\n",
       "      <td>5.000000</td>\n",
       "      <td>5.000000</td>\n",
       "      <td>5.000000</td>\n",
       "      <td>5.000000</td>\n",
       "      <td>5.000000</td>\n",
       "      <td>1.326277e+09</td>\n",
       "    </tr>\n",
       "  </tbody>\n",
       "</table>\n",
       "</div>"
      ],
      "text/plain": [
       "            beer_ABV    beer_beerId  beer_brewerId  review_appearance  \\\n",
       "count  528870.000000  528870.000000  528870.000000      528870.000000   \n",
       "mean        7.017442   22098.466016    2598.423429           3.864528   \n",
       "std         2.161781   22158.284352    5281.805350           0.603979   \n",
       "min         0.010000       3.000000       1.000000           1.000000   \n",
       "25%         5.300000    1745.000000     132.000000           3.500000   \n",
       "50%         6.500000   14368.000000     394.000000           4.000000   \n",
       "75%         8.500000   40528.000000    1475.000000           4.000000   \n",
       "max        57.700000   77310.000000   27980.000000           5.000000   \n",
       "\n",
       "       review_palette  review_overall   review_taste   review_aroma  \\\n",
       "count   528870.000000   528870.000000  528870.000000  528870.000000   \n",
       "mean         3.758926        3.833203       3.765993       3.817350   \n",
       "std          0.685335        0.709935       0.669018       0.718903   \n",
       "min          1.000000        1.000000       1.000000       1.000000   \n",
       "25%          3.500000        3.500000       3.500000       3.500000   \n",
       "50%          4.000000        4.000000       4.000000       4.000000   \n",
       "75%          4.000000        4.500000       4.000000       4.500000   \n",
       "max          5.000000        5.000000       5.000000       5.000000   \n",
       "\n",
       "        review_time  \n",
       "count  5.288700e+05  \n",
       "mean   1.224885e+09  \n",
       "std    7.605600e+07  \n",
       "min    8.843904e+08  \n",
       "25%    1.174613e+09  \n",
       "50%    1.240366e+09  \n",
       "75%    1.288560e+09  \n",
       "max    1.326277e+09  "
      ]
     },
     "execution_count": 16,
     "metadata": {},
     "output_type": "execute_result"
    }
   ],
   "source": [
    "df_numerical.describe()"
   ]
  },
  {
   "cell_type": "markdown",
   "id": "a5d38e47",
   "metadata": {},
   "source": [
    "Another quick way to get a feel of the type of data we are dealing with is to plot a histogram for each numerical attribute."
   ]
  },
  {
   "cell_type": "code",
   "execution_count": 17,
   "id": "6aea2b3a",
   "metadata": {},
   "outputs": [
    {
     "data": {
      "image/png": "[encoded data removed]",
      "text/plain": [
       "<Figure size 1200x800 with 9 Axes>"
      ]
     },
     "metadata": {},
     "output_type": "display_data"
    }
   ],
   "source": [
    "df_numerical.hist(bins=50, figsize=(12, 8))\n",
    "plt.show()"
   ]
  },
  {
   "cell_type": "markdown",
   "id": "be291f8f",
   "metadata": {},
   "source": [
    "Some histograms are slightly skewed left: they extend a little farther to the left of the median than to the left. This may make it a bit harder for some machine learning algorithms to detect patterns. Later, we'll try transforming these attributes to have more symmetrical and bell-shaped distributions."
   ]
  },
  {
   "cell_type": "markdown",
   "id": "9efdbd74",
   "metadata": {},
   "source": [
    "# Q1. Rank the top 3 breweries which produce the strongest beers. Here the strongest means the most beer volumns by average."
   ]
  },
  {
   "cell_type": "code",
   "execution_count": 18,
   "id": "0c75b7fc",
   "metadata": {},
   "outputs": [
    {
     "name": "stdout",
     "output_type": "stream",
     "text": [
      "<class 'pandas.core.frame.DataFrame'>\n",
      "RangeIndex: 528870 entries, 0 to 528869\n",
      "Data columns (total 13 columns):\n",
      " #   Column              Non-Null Count   Dtype  \n",
      "---  ------              --------------   -----  \n",
      " 0   beer_ABV            528870 non-null  float64\n",
      " 1   beer_beerId         528870 non-null  int64  \n",
      " 2   beer_brewerId       528870 non-null  int64  \n",
      " 3   beer_name           528870 non-null  object \n",
      " 4   beer_style          528870 non-null  object \n",
      " 5   review_appearance   528870 non-null  float64\n",
      " 6   review_palette      528870 non-null  float64\n",
      " 7   review_overall      528870 non-null  float64\n",
      " 8   review_taste        528870 non-null  float64\n",
      " 9   review_profileName  528755 non-null  object \n",
      " 10  review_aroma        528870 non-null  float64\n",
      " 11  review_text         528751 non-null  object \n",
      " 12  review_time         528870 non-null  int64  \n",
      "dtypes: float64(6), int64(3), object(4)\n",
      "memory usage: 52.5+ MB\n"
     ]
    }
   ],
   "source": [
    "df.info()"
   ]
  },
  {
   "cell_type": "code",
   "execution_count": 19,
   "id": "3b1e4f6b",
   "metadata": {},
   "outputs": [],
   "source": [
    "df1 = df.groupby(['beer_beerId'])['beer_ABV'].mean().reset_index()"
   ]
  },
  {
   "cell_type": "code",
   "execution_count": 20,
   "id": "7c61606d",
   "metadata": {},
   "outputs": [],
   "source": [
    "df1 = df1.rename(columns={'beer_ABV':'beer_ABV_average'})"
   ]
  },
  {
   "cell_type": "code",
   "execution_count": 21,
   "id": "6e5419b8",
   "metadata": {},
   "outputs": [],
   "source": [
    "df1['rank'] = df1['beer_ABV_average'].rank(method=\"min\", ascending=False)"
   ]
  },
  {
   "cell_type": "code",
   "execution_count": 22,
   "id": "7e4106a7",
   "metadata": {},
   "outputs": [
    {
     "data": {
      "text/html": [
       "<div>\n",
       "<style scoped>\n",
       "    .dataframe tbody tr th:only-of-type {\n",
       "        vertical-align: middle;\n",
       "    }\n",
       "\n",
       "    .dataframe tbody tr th {\n",
       "        vertical-align: top;\n",
       "    }\n",
       "\n",
       "    .dataframe thead th {\n",
       "        text-align: right;\n",
       "    }\n",
       "</style>\n",
       "<table border=\"1\" class=\"dataframe\">\n",
       "  <thead>\n",
       "    <tr style=\"text-align: right;\">\n",
       "      <th></th>\n",
       "      <th>beer_beerId</th>\n",
       "      <th>beer_ABV_average</th>\n",
       "      <th>rank</th>\n",
       "    </tr>\n",
       "  </thead>\n",
       "  <tbody>\n",
       "    <tr>\n",
       "      <th>14144</th>\n",
       "      <td>55712</td>\n",
       "      <td>39.44</td>\n",
       "      <td>3.0</td>\n",
       "    </tr>\n",
       "    <tr>\n",
       "      <th>14718</th>\n",
       "      <td>57856</td>\n",
       "      <td>43.00</td>\n",
       "      <td>2.0</td>\n",
       "    </tr>\n",
       "    <tr>\n",
       "      <th>19032</th>\n",
       "      <td>73368</td>\n",
       "      <td>57.70</td>\n",
       "      <td>1.0</td>\n",
       "    </tr>\n",
       "  </tbody>\n",
       "</table>\n",
       "</div>"
      ],
      "text/plain": [
       "       beer_beerId  beer_ABV_average  rank\n",
       "14144        55712             39.44   3.0\n",
       "14718        57856             43.00   2.0\n",
       "19032        73368             57.70   1.0"
      ]
     },
     "execution_count": 22,
     "metadata": {},
     "output_type": "execute_result"
    }
   ],
   "source": [
    "df1[df1['rank']<=3]"
   ]
  },
  {
   "cell_type": "code",
   "execution_count": 23,
   "id": "936c8c3c",
   "metadata": {},
   "outputs": [
    {
     "data": {
      "text/plain": [
       "14144    55712\n",
       "14718    57856\n",
       "19032    73368\n",
       "Name: beer_beerId, dtype: int64"
      ]
     },
     "execution_count": 23,
     "metadata": {},
     "output_type": "execute_result"
    }
   ],
   "source": [
    "df1[df1['rank']<=3]['beer_beerId']"
   ]
  },
  {
   "cell_type": "code",
   "execution_count": 24,
   "id": "def4bb15",
   "metadata": {},
   "outputs": [
    {
     "data": {
      "text/html": [
       "<div>\n",
       "<style scoped>\n",
       "    .dataframe tbody tr th:only-of-type {\n",
       "        vertical-align: middle;\n",
       "    }\n",
       "\n",
       "    .dataframe tbody tr th {\n",
       "        vertical-align: top;\n",
       "    }\n",
       "\n",
       "    .dataframe thead th {\n",
       "        text-align: right;\n",
       "    }\n",
       "</style>\n",
       "<table border=\"1\" class=\"dataframe\">\n",
       "  <thead>\n",
       "    <tr style=\"text-align: right;\">\n",
       "      <th></th>\n",
       "      <th>beer_beerId</th>\n",
       "      <th>beer_ABV_average</th>\n",
       "      <th>rank</th>\n",
       "    </tr>\n",
       "  </thead>\n",
       "  <tbody>\n",
       "    <tr>\n",
       "      <th>0</th>\n",
       "      <td>3</td>\n",
       "      <td>7.017442</td>\n",
       "      <td>4092.0</td>\n",
       "    </tr>\n",
       "    <tr>\n",
       "      <th>1</th>\n",
       "      <td>4</td>\n",
       "      <td>7.017442</td>\n",
       "      <td>4092.0</td>\n",
       "    </tr>\n",
       "    <tr>\n",
       "      <th>2</th>\n",
       "      <td>5</td>\n",
       "      <td>4.500000</td>\n",
       "      <td>18022.0</td>\n",
       "    </tr>\n",
       "    <tr>\n",
       "      <th>3</th>\n",
       "      <td>6</td>\n",
       "      <td>5.600000</td>\n",
       "      <td>12772.0</td>\n",
       "    </tr>\n",
       "    <tr>\n",
       "      <th>4</th>\n",
       "      <td>7</td>\n",
       "      <td>4.200000</td>\n",
       "      <td>18944.0</td>\n",
       "    </tr>\n",
       "    <tr>\n",
       "      <th>...</th>\n",
       "      <td>...</td>\n",
       "      <td>...</td>\n",
       "      <td>...</td>\n",
       "    </tr>\n",
       "    <tr>\n",
       "      <th>20195</th>\n",
       "      <td>77302</td>\n",
       "      <td>6.500000</td>\n",
       "      <td>10333.0</td>\n",
       "    </tr>\n",
       "    <tr>\n",
       "      <th>20196</th>\n",
       "      <td>77303</td>\n",
       "      <td>5.800000</td>\n",
       "      <td>12307.0</td>\n",
       "    </tr>\n",
       "    <tr>\n",
       "      <th>20197</th>\n",
       "      <td>77305</td>\n",
       "      <td>6.600000</td>\n",
       "      <td>10230.0</td>\n",
       "    </tr>\n",
       "    <tr>\n",
       "      <th>20198</th>\n",
       "      <td>77307</td>\n",
       "      <td>5.500000</td>\n",
       "      <td>13040.0</td>\n",
       "    </tr>\n",
       "    <tr>\n",
       "      <th>20199</th>\n",
       "      <td>77310</td>\n",
       "      <td>6.600000</td>\n",
       "      <td>10230.0</td>\n",
       "    </tr>\n",
       "  </tbody>\n",
       "</table>\n",
       "<p>20200 rows × 3 columns</p>\n",
       "</div>"
      ],
      "text/plain": [
       "       beer_beerId  beer_ABV_average     rank\n",
       "0                3          7.017442   4092.0\n",
       "1                4          7.017442   4092.0\n",
       "2                5          4.500000  18022.0\n",
       "3                6          5.600000  12772.0\n",
       "4                7          4.200000  18944.0\n",
       "...            ...               ...      ...\n",
       "20195        77302          6.500000  10333.0\n",
       "20196        77303          5.800000  12307.0\n",
       "20197        77305          6.600000  10230.0\n",
       "20198        77307          5.500000  13040.0\n",
       "20199        77310          6.600000  10230.0\n",
       "\n",
       "[20200 rows x 3 columns]"
      ]
     },
     "execution_count": 24,
     "metadata": {},
     "output_type": "execute_result"
    }
   ],
   "source": [
    "df1"
   ]
  },
  {
   "cell_type": "code",
   "execution_count": 25,
   "id": "73b7e9df",
   "metadata": {},
   "outputs": [
    {
     "data": {
      "text/plain": [
       "<Axes: >"
      ]
     },
     "execution_count": 25,
     "metadata": {},
     "output_type": "execute_result"
    },
    {
     "data": {
      "image/png": "[encoded data removed]",
      "text/plain": [
       "<Figure size 1000x700 with 1 Axes>"
      ]
     },
     "metadata": {},
     "output_type": "display_data"
    }
   ],
   "source": [
    "# distribution of the average beer ABV that different breweries make\n",
    "df1.boxplot(column=\"beer_ABV_average\", figsize=(10, 7))"
   ]
  },
  {
   "cell_type": "code",
   "execution_count": 26,
   "id": "a8498c02",
   "metadata": {},
   "outputs": [
    {
     "data": {
      "image/png": "[encoded data removed]",
      "text/plain": [
       "<Figure size 1000x700 with 1 Axes>"
      ]
     },
     "metadata": {},
     "output_type": "display_data"
    }
   ],
   "source": [
    "# distribution of occurency of the average beer ABV\n",
    "df1[\"beer_ABV_average\"].hist(bins=50, figsize=(10, 7))\n",
    "plt.show()"
   ]
  },
  {
   "cell_type": "markdown",
   "id": "9b9fb613",
   "metadata": {},
   "source": [
    "# Q2. Which year did beers enjoy the highest ratings?"
   ]
  },
  {
   "cell_type": "code",
   "execution_count": 27,
   "id": "ac188b58",
   "metadata": {},
   "outputs": [],
   "source": [
    "df_new = df"
   ]
  },
  {
   "cell_type": "code",
   "execution_count": 28,
   "id": "371dcd96",
   "metadata": {},
   "outputs": [],
   "source": [
    "df_new[\"review_year\"] = pd.to_datetime(df_new[\"review_time\"], unit=\"s\").dt.year"
   ]
  },
  {
   "cell_type": "code",
   "execution_count": 29,
   "id": "38f477e6",
   "metadata": {},
   "outputs": [
    {
     "data": {
      "text/plain": [
       "2011    110836\n",
       "2010     93810\n",
       "2009     83578\n",
       "2008     69080\n",
       "2007     46514\n",
       "2006     43083\n",
       "2005     29433\n",
       "2004     22905\n",
       "2003     18187\n",
       "2002      7581\n",
       "2012      3180\n",
       "2001       602\n",
       "2000        33\n",
       "1999        25\n",
       "1998        23\n",
       "Name: review_year, dtype: int64"
      ]
     },
     "execution_count": 29,
     "metadata": {},
     "output_type": "execute_result"
    }
   ],
   "source": [
    "df_new[\"review_year\"].value_counts()"
   ]
  },
  {
   "cell_type": "code",
   "execution_count": 30,
   "id": "60ea8cb1",
   "metadata": {},
   "outputs": [],
   "source": [
    "df2_rating = df_new.groupby(['review_year'])['review_overall'].mean().reset_index()"
   ]
  },
  {
   "cell_type": "code",
   "execution_count": 31,
   "id": "68e02de3",
   "metadata": {},
   "outputs": [],
   "source": [
    "df2_rating = df2_rating.rename(columns={'review_overall':'review_overall_average'})"
   ]
  },
  {
   "cell_type": "code",
   "execution_count": 32,
   "id": "ca724234",
   "metadata": {},
   "outputs": [],
   "source": [
    "df2_rating['rank']=df2_rating['review_overall_average'].rank(method='min', ascending=False)"
   ]
  },
  {
   "cell_type": "code",
   "execution_count": 33,
   "id": "0467cfa5",
   "metadata": {},
   "outputs": [
    {
     "data": {
      "text/html": [
       "<div>\n",
       "<style scoped>\n",
       "    .dataframe tbody tr th:only-of-type {\n",
       "        vertical-align: middle;\n",
       "    }\n",
       "\n",
       "    .dataframe tbody tr th {\n",
       "        vertical-align: top;\n",
       "    }\n",
       "\n",
       "    .dataframe thead th {\n",
       "        text-align: right;\n",
       "    }\n",
       "</style>\n",
       "<table border=\"1\" class=\"dataframe\">\n",
       "  <thead>\n",
       "    <tr style=\"text-align: right;\">\n",
       "      <th></th>\n",
       "      <th>review_year</th>\n",
       "      <th>review_overall_average</th>\n",
       "      <th>rank</th>\n",
       "    </tr>\n",
       "  </thead>\n",
       "  <tbody>\n",
       "    <tr>\n",
       "      <th>0</th>\n",
       "      <td>1998</td>\n",
       "      <td>3.891304</td>\n",
       "      <td>4.0</td>\n",
       "    </tr>\n",
       "    <tr>\n",
       "      <th>1</th>\n",
       "      <td>1999</td>\n",
       "      <td>4.000000</td>\n",
       "      <td>2.0</td>\n",
       "    </tr>\n",
       "    <tr>\n",
       "      <th>2</th>\n",
       "      <td>2000</td>\n",
       "      <td>4.181818</td>\n",
       "      <td>1.0</td>\n",
       "    </tr>\n",
       "    <tr>\n",
       "      <th>3</th>\n",
       "      <td>2001</td>\n",
       "      <td>3.927741</td>\n",
       "      <td>3.0</td>\n",
       "    </tr>\n",
       "    <tr>\n",
       "      <th>4</th>\n",
       "      <td>2002</td>\n",
       "      <td>3.799301</td>\n",
       "      <td>12.0</td>\n",
       "    </tr>\n",
       "    <tr>\n",
       "      <th>5</th>\n",
       "      <td>2003</td>\n",
       "      <td>3.752900</td>\n",
       "      <td>15.0</td>\n",
       "    </tr>\n",
       "    <tr>\n",
       "      <th>6</th>\n",
       "      <td>2004</td>\n",
       "      <td>3.794630</td>\n",
       "      <td>14.0</td>\n",
       "    </tr>\n",
       "    <tr>\n",
       "      <th>7</th>\n",
       "      <td>2005</td>\n",
       "      <td>3.832042</td>\n",
       "      <td>8.0</td>\n",
       "    </tr>\n",
       "    <tr>\n",
       "      <th>8</th>\n",
       "      <td>2006</td>\n",
       "      <td>3.798192</td>\n",
       "      <td>13.0</td>\n",
       "    </tr>\n",
       "    <tr>\n",
       "      <th>9</th>\n",
       "      <td>2007</td>\n",
       "      <td>3.809552</td>\n",
       "      <td>11.0</td>\n",
       "    </tr>\n",
       "    <tr>\n",
       "      <th>10</th>\n",
       "      <td>2008</td>\n",
       "      <td>3.833939</td>\n",
       "      <td>7.0</td>\n",
       "    </tr>\n",
       "    <tr>\n",
       "      <th>11</th>\n",
       "      <td>2009</td>\n",
       "      <td>3.864390</td>\n",
       "      <td>6.0</td>\n",
       "    </tr>\n",
       "    <tr>\n",
       "      <th>12</th>\n",
       "      <td>2010</td>\n",
       "      <td>3.866139</td>\n",
       "      <td>5.0</td>\n",
       "    </tr>\n",
       "    <tr>\n",
       "      <th>13</th>\n",
       "      <td>2011</td>\n",
       "      <td>3.828093</td>\n",
       "      <td>10.0</td>\n",
       "    </tr>\n",
       "    <tr>\n",
       "      <th>14</th>\n",
       "      <td>2012</td>\n",
       "      <td>3.829717</td>\n",
       "      <td>9.0</td>\n",
       "    </tr>\n",
       "  </tbody>\n",
       "</table>\n",
       "</div>"
      ],
      "text/plain": [
       "    review_year  review_overall_average  rank\n",
       "0          1998                3.891304   4.0\n",
       "1          1999                4.000000   2.0\n",
       "2          2000                4.181818   1.0\n",
       "3          2001                3.927741   3.0\n",
       "4          2002                3.799301  12.0\n",
       "5          2003                3.752900  15.0\n",
       "6          2004                3.794630  14.0\n",
       "7          2005                3.832042   8.0\n",
       "8          2006                3.798192  13.0\n",
       "9          2007                3.809552  11.0\n",
       "10         2008                3.833939   7.0\n",
       "11         2009                3.864390   6.0\n",
       "12         2010                3.866139   5.0\n",
       "13         2011                3.828093  10.0\n",
       "14         2012                3.829717   9.0"
      ]
     },
     "execution_count": 33,
     "metadata": {},
     "output_type": "execute_result"
    }
   ],
   "source": [
    "df2_rating"
   ]
  },
  {
   "cell_type": "code",
   "execution_count": 34,
   "id": "a07cbf9f",
   "metadata": {},
   "outputs": [
    {
     "data": {
      "text/html": [
       "<div>\n",
       "<style scoped>\n",
       "    .dataframe tbody tr th:only-of-type {\n",
       "        vertical-align: middle;\n",
       "    }\n",
       "\n",
       "    .dataframe tbody tr th {\n",
       "        vertical-align: top;\n",
       "    }\n",
       "\n",
       "    .dataframe thead th {\n",
       "        text-align: right;\n",
       "    }\n",
       "</style>\n",
       "<table border=\"1\" class=\"dataframe\">\n",
       "  <thead>\n",
       "    <tr style=\"text-align: right;\">\n",
       "      <th></th>\n",
       "      <th>review_year</th>\n",
       "      <th>review_overall_average</th>\n",
       "      <th>rank</th>\n",
       "    </tr>\n",
       "  </thead>\n",
       "  <tbody>\n",
       "    <tr>\n",
       "      <th>2</th>\n",
       "      <td>2000</td>\n",
       "      <td>4.181818</td>\n",
       "      <td>1.0</td>\n",
       "    </tr>\n",
       "  </tbody>\n",
       "</table>\n",
       "</div>"
      ],
      "text/plain": [
       "   review_year  review_overall_average  rank\n",
       "2         2000                4.181818   1.0"
      ]
     },
     "execution_count": 34,
     "metadata": {},
     "output_type": "execute_result"
    }
   ],
   "source": [
    "df2_rating[df2_rating['rank']==1]"
   ]
  },
  {
   "cell_type": "markdown",
   "id": "5aa794b7",
   "metadata": {},
   "source": [
    "In 2000, beers got the highest average ratings 4.18."
   ]
  },
  {
   "cell_type": "code",
   "execution_count": 35,
   "id": "3f29d0b6",
   "metadata": {},
   "outputs": [],
   "source": [
    "df2_count = df_new.groupby(['review_year']).size().to_frame('no_of_reviews').reset_index()"
   ]
  },
  {
   "cell_type": "code",
   "execution_count": 36,
   "id": "c61b1f4e",
   "metadata": {},
   "outputs": [
    {
     "data": {
      "text/html": [
       "<div>\n",
       "<style scoped>\n",
       "    .dataframe tbody tr th:only-of-type {\n",
       "        vertical-align: middle;\n",
       "    }\n",
       "\n",
       "    .dataframe tbody tr th {\n",
       "        vertical-align: top;\n",
       "    }\n",
       "\n",
       "    .dataframe thead th {\n",
       "        text-align: right;\n",
       "    }\n",
       "</style>\n",
       "<table border=\"1\" class=\"dataframe\">\n",
       "  <thead>\n",
       "    <tr style=\"text-align: right;\">\n",
       "      <th></th>\n",
       "      <th>review_year</th>\n",
       "      <th>no_of_reviews</th>\n",
       "    </tr>\n",
       "  </thead>\n",
       "  <tbody>\n",
       "    <tr>\n",
       "      <th>0</th>\n",
       "      <td>1998</td>\n",
       "      <td>23</td>\n",
       "    </tr>\n",
       "    <tr>\n",
       "      <th>1</th>\n",
       "      <td>1999</td>\n",
       "      <td>25</td>\n",
       "    </tr>\n",
       "    <tr>\n",
       "      <th>2</th>\n",
       "      <td>2000</td>\n",
       "      <td>33</td>\n",
       "    </tr>\n",
       "    <tr>\n",
       "      <th>3</th>\n",
       "      <td>2001</td>\n",
       "      <td>602</td>\n",
       "    </tr>\n",
       "    <tr>\n",
       "      <th>4</th>\n",
       "      <td>2002</td>\n",
       "      <td>7581</td>\n",
       "    </tr>\n",
       "    <tr>\n",
       "      <th>5</th>\n",
       "      <td>2003</td>\n",
       "      <td>18187</td>\n",
       "    </tr>\n",
       "    <tr>\n",
       "      <th>6</th>\n",
       "      <td>2004</td>\n",
       "      <td>22905</td>\n",
       "    </tr>\n",
       "    <tr>\n",
       "      <th>7</th>\n",
       "      <td>2005</td>\n",
       "      <td>29433</td>\n",
       "    </tr>\n",
       "    <tr>\n",
       "      <th>8</th>\n",
       "      <td>2006</td>\n",
       "      <td>43083</td>\n",
       "    </tr>\n",
       "    <tr>\n",
       "      <th>9</th>\n",
       "      <td>2007</td>\n",
       "      <td>46514</td>\n",
       "    </tr>\n",
       "    <tr>\n",
       "      <th>10</th>\n",
       "      <td>2008</td>\n",
       "      <td>69080</td>\n",
       "    </tr>\n",
       "    <tr>\n",
       "      <th>11</th>\n",
       "      <td>2009</td>\n",
       "      <td>83578</td>\n",
       "    </tr>\n",
       "    <tr>\n",
       "      <th>12</th>\n",
       "      <td>2010</td>\n",
       "      <td>93810</td>\n",
       "    </tr>\n",
       "    <tr>\n",
       "      <th>13</th>\n",
       "      <td>2011</td>\n",
       "      <td>110836</td>\n",
       "    </tr>\n",
       "    <tr>\n",
       "      <th>14</th>\n",
       "      <td>2012</td>\n",
       "      <td>3180</td>\n",
       "    </tr>\n",
       "  </tbody>\n",
       "</table>\n",
       "</div>"
      ],
      "text/plain": [
       "    review_year  no_of_reviews\n",
       "0          1998             23\n",
       "1          1999             25\n",
       "2          2000             33\n",
       "3          2001            602\n",
       "4          2002           7581\n",
       "5          2003          18187\n",
       "6          2004          22905\n",
       "7          2005          29433\n",
       "8          2006          43083\n",
       "9          2007          46514\n",
       "10         2008          69080\n",
       "11         2009          83578\n",
       "12         2010          93810\n",
       "13         2011         110836\n",
       "14         2012           3180"
      ]
     },
     "execution_count": 36,
     "metadata": {},
     "output_type": "execute_result"
    }
   ],
   "source": [
    "df2_count"
   ]
  },
  {
   "cell_type": "code",
   "execution_count": 37,
   "id": "300508ab",
   "metadata": {},
   "outputs": [],
   "source": [
    "df2 = df2_rating.merge(right=df2_count, how='inner', on='review_year')"
   ]
  },
  {
   "cell_type": "code",
   "execution_count": 38,
   "id": "c779ca22",
   "metadata": {},
   "outputs": [
    {
     "data": {
      "text/html": [
       "<div>\n",
       "<style scoped>\n",
       "    .dataframe tbody tr th:only-of-type {\n",
       "        vertical-align: middle;\n",
       "    }\n",
       "\n",
       "    .dataframe tbody tr th {\n",
       "        vertical-align: top;\n",
       "    }\n",
       "\n",
       "    .dataframe thead th {\n",
       "        text-align: right;\n",
       "    }\n",
       "</style>\n",
       "<table border=\"1\" class=\"dataframe\">\n",
       "  <thead>\n",
       "    <tr style=\"text-align: right;\">\n",
       "      <th></th>\n",
       "      <th>review_year</th>\n",
       "      <th>review_overall_average</th>\n",
       "      <th>rank</th>\n",
       "      <th>no_of_reviews</th>\n",
       "    </tr>\n",
       "  </thead>\n",
       "  <tbody>\n",
       "    <tr>\n",
       "      <th>0</th>\n",
       "      <td>1998</td>\n",
       "      <td>3.891304</td>\n",
       "      <td>4.0</td>\n",
       "      <td>23</td>\n",
       "    </tr>\n",
       "    <tr>\n",
       "      <th>1</th>\n",
       "      <td>1999</td>\n",
       "      <td>4.000000</td>\n",
       "      <td>2.0</td>\n",
       "      <td>25</td>\n",
       "    </tr>\n",
       "    <tr>\n",
       "      <th>2</th>\n",
       "      <td>2000</td>\n",
       "      <td>4.181818</td>\n",
       "      <td>1.0</td>\n",
       "      <td>33</td>\n",
       "    </tr>\n",
       "    <tr>\n",
       "      <th>3</th>\n",
       "      <td>2001</td>\n",
       "      <td>3.927741</td>\n",
       "      <td>3.0</td>\n",
       "      <td>602</td>\n",
       "    </tr>\n",
       "    <tr>\n",
       "      <th>4</th>\n",
       "      <td>2002</td>\n",
       "      <td>3.799301</td>\n",
       "      <td>12.0</td>\n",
       "      <td>7581</td>\n",
       "    </tr>\n",
       "  </tbody>\n",
       "</table>\n",
       "</div>"
      ],
      "text/plain": [
       "   review_year  review_overall_average  rank  no_of_reviews\n",
       "0         1998                3.891304   4.0             23\n",
       "1         1999                4.000000   2.0             25\n",
       "2         2000                4.181818   1.0             33\n",
       "3         2001                3.927741   3.0            602\n",
       "4         2002                3.799301  12.0           7581"
      ]
     },
     "execution_count": 38,
     "metadata": {},
     "output_type": "execute_result"
    }
   ],
   "source": [
    "df2.head()"
   ]
  },
  {
   "cell_type": "code",
   "execution_count": 39,
   "id": "4cb35556",
   "metadata": {},
   "outputs": [
    {
     "data": {
      "image/png": "[encoded data removed]",
      "text/plain": [
       "<Figure size 1300x800 with 2 Axes>"
      ]
     },
     "metadata": {},
     "output_type": "display_data"
    }
   ],
   "source": [
    "figure = plt.figure(figsize=(13,8))\n",
    "ax1 = figure.add_subplot(111)\n",
    "ax2 = ax1.twinx()\n",
    "df2.plot(x='review_year', y='review_overall_average', kind='bar', color='blue', ax=ax1, width=0.25, position=0)\n",
    "df2.plot(x='review_year', y='no_of_reviews', kind='bar', color='red', ax=ax2, width=0.25, position=1)\n",
    "plt.legend(loc='upper left')\n",
    "plt.show()"
   ]
  },
  {
   "cell_type": "markdown",
   "id": "45486181",
   "metadata": {},
   "source": [
    "In 2000, there are only 33 reivews, which may be too small compared to other years. Therefore it is not reliable to say 2000 is the answer. 2010 has the second most number of reviews and the rating ranks at 5th position. It is convincing to say in 2010 beers enjoy the highest rating.  "
   ]
  },
  {
   "cell_type": "markdown",
   "id": "201f3add",
   "metadata": {},
   "source": [
    "# Q3. Based on the users' ratings, which factors are important among taste, aroma, appearance, and palette?"
   ]
  },
  {
   "cell_type": "code",
   "execution_count": 40,
   "id": "ead121d9",
   "metadata": {},
   "outputs": [
    {
     "data": {
      "text/html": [
       "<div>\n",
       "<style scoped>\n",
       "    .dataframe tbody tr th:only-of-type {\n",
       "        vertical-align: middle;\n",
       "    }\n",
       "\n",
       "    .dataframe tbody tr th {\n",
       "        vertical-align: top;\n",
       "    }\n",
       "\n",
       "    .dataframe thead th {\n",
       "        text-align: right;\n",
       "    }\n",
       "</style>\n",
       "<table border=\"1\" class=\"dataframe\">\n",
       "  <thead>\n",
       "    <tr style=\"text-align: right;\">\n",
       "      <th></th>\n",
       "      <th>beer_ABV</th>\n",
       "      <th>beer_beerId</th>\n",
       "      <th>beer_brewerId</th>\n",
       "      <th>beer_name</th>\n",
       "      <th>beer_style</th>\n",
       "      <th>review_appearance</th>\n",
       "      <th>review_palette</th>\n",
       "      <th>review_overall</th>\n",
       "      <th>review_taste</th>\n",
       "      <th>review_profileName</th>\n",
       "      <th>review_aroma</th>\n",
       "      <th>review_text</th>\n",
       "      <th>review_time</th>\n",
       "      <th>review_year</th>\n",
       "    </tr>\n",
       "  </thead>\n",
       "  <tbody>\n",
       "    <tr>\n",
       "      <th>0</th>\n",
       "      <td>5.0</td>\n",
       "      <td>47986</td>\n",
       "      <td>10325</td>\n",
       "      <td>Sausa Weizen</td>\n",
       "      <td>Hefeweizen</td>\n",
       "      <td>2.5</td>\n",
       "      <td>2.0</td>\n",
       "      <td>1.5</td>\n",
       "      <td>1.5</td>\n",
       "      <td>stcules</td>\n",
       "      <td>1.5</td>\n",
       "      <td>A lot of foam. But a lot. In the smell some ba...</td>\n",
       "      <td>1234817823</td>\n",
       "      <td>2009</td>\n",
       "    </tr>\n",
       "    <tr>\n",
       "      <th>1</th>\n",
       "      <td>6.2</td>\n",
       "      <td>48213</td>\n",
       "      <td>10325</td>\n",
       "      <td>Red Moon</td>\n",
       "      <td>English Strong Ale</td>\n",
       "      <td>3.0</td>\n",
       "      <td>2.5</td>\n",
       "      <td>3.0</td>\n",
       "      <td>3.0</td>\n",
       "      <td>stcules</td>\n",
       "      <td>3.0</td>\n",
       "      <td>Dark red color, light beige foam, average. In ...</td>\n",
       "      <td>1235915097</td>\n",
       "      <td>2009</td>\n",
       "    </tr>\n",
       "    <tr>\n",
       "      <th>2</th>\n",
       "      <td>6.5</td>\n",
       "      <td>48215</td>\n",
       "      <td>10325</td>\n",
       "      <td>Black Horse Black Beer</td>\n",
       "      <td>Foreign / Export Stout</td>\n",
       "      <td>3.0</td>\n",
       "      <td>2.5</td>\n",
       "      <td>3.0</td>\n",
       "      <td>3.0</td>\n",
       "      <td>stcules</td>\n",
       "      <td>3.0</td>\n",
       "      <td>Almost totally black. Beige foam, quite compac...</td>\n",
       "      <td>1235916604</td>\n",
       "      <td>2009</td>\n",
       "    </tr>\n",
       "    <tr>\n",
       "      <th>3</th>\n",
       "      <td>5.0</td>\n",
       "      <td>47969</td>\n",
       "      <td>10325</td>\n",
       "      <td>Sausa Pils</td>\n",
       "      <td>German Pilsener</td>\n",
       "      <td>3.5</td>\n",
       "      <td>3.0</td>\n",
       "      <td>3.0</td>\n",
       "      <td>2.5</td>\n",
       "      <td>stcules</td>\n",
       "      <td>3.0</td>\n",
       "      <td>Golden yellow color. White, compact foam, quit...</td>\n",
       "      <td>1234725145</td>\n",
       "      <td>2009</td>\n",
       "    </tr>\n",
       "    <tr>\n",
       "      <th>4</th>\n",
       "      <td>7.7</td>\n",
       "      <td>64883</td>\n",
       "      <td>1075</td>\n",
       "      <td>Cauldron DIPA</td>\n",
       "      <td>American Double / Imperial IPA</td>\n",
       "      <td>4.0</td>\n",
       "      <td>4.5</td>\n",
       "      <td>4.0</td>\n",
       "      <td>4.0</td>\n",
       "      <td>johnmichaelsen</td>\n",
       "      <td>4.5</td>\n",
       "      <td>According to the website, the style for the Ca...</td>\n",
       "      <td>1293735206</td>\n",
       "      <td>2010</td>\n",
       "    </tr>\n",
       "  </tbody>\n",
       "</table>\n",
       "</div>"
      ],
      "text/plain": [
       "   beer_ABV  beer_beerId  beer_brewerId               beer_name  \\\n",
       "0       5.0        47986          10325            Sausa Weizen   \n",
       "1       6.2        48213          10325                Red Moon   \n",
       "2       6.5        48215          10325  Black Horse Black Beer   \n",
       "3       5.0        47969          10325              Sausa Pils   \n",
       "4       7.7        64883           1075           Cauldron DIPA   \n",
       "\n",
       "                       beer_style  review_appearance  review_palette  \\\n",
       "0                      Hefeweizen                2.5             2.0   \n",
       "1              English Strong Ale                3.0             2.5   \n",
       "2          Foreign / Export Stout                3.0             2.5   \n",
       "3                 German Pilsener                3.5             3.0   \n",
       "4  American Double / Imperial IPA                4.0             4.5   \n",
       "\n",
       "   review_overall  review_taste review_profileName  review_aroma  \\\n",
       "0             1.5           1.5            stcules           1.5   \n",
       "1             3.0           3.0            stcules           3.0   \n",
       "2             3.0           3.0            stcules           3.0   \n",
       "3             3.0           2.5            stcules           3.0   \n",
       "4             4.0           4.0     johnmichaelsen           4.5   \n",
       "\n",
       "                                         review_text  review_time  review_year  \n",
       "0  A lot of foam. But a lot. In the smell some ba...   1234817823         2009  \n",
       "1  Dark red color, light beige foam, average. In ...   1235915097         2009  \n",
       "2  Almost totally black. Beige foam, quite compac...   1235916604         2009  \n",
       "3  Golden yellow color. White, compact foam, quit...   1234725145         2009  \n",
       "4  According to the website, the style for the Ca...   1293735206         2010  "
      ]
     },
     "execution_count": 40,
     "metadata": {},
     "output_type": "execute_result"
    }
   ],
   "source": [
    "df.head()"
   ]
  },
  {
   "cell_type": "markdown",
   "id": "fe3d54d1",
   "metadata": {},
   "source": [
    "To explore the correlation between factors and overall ratings, we need to group the dataset by beer_beerId."
   ]
  },
  {
   "cell_type": "code",
   "execution_count": 41,
   "id": "f5753d2f",
   "metadata": {},
   "outputs": [
    {
     "data": {
      "text/plain": [
       "1904     3000\n",
       "276      2587\n",
       "11757    2502\n",
       "2671     2492\n",
       "34       2483\n",
       "         ... \n",
       "73328       1\n",
       "73785       1\n",
       "70614       1\n",
       "58898       1\n",
       "47986       1\n",
       "Name: beer_beerId, Length: 20200, dtype: int64"
      ]
     },
     "execution_count": 41,
     "metadata": {},
     "output_type": "execute_result"
    }
   ],
   "source": [
    "df['beer_beerId'].value_counts()"
   ]
  },
  {
   "cell_type": "code",
   "execution_count": 42,
   "id": "2a661ee6",
   "metadata": {},
   "outputs": [],
   "source": [
    "df3 = df.groupby(['beer_beerId'])[['review_overall', 'review_appearance', 'review_palette', 'review_taste', 'review_aroma']].mean()"
   ]
  },
  {
   "cell_type": "code",
   "execution_count": 43,
   "id": "625ebc50",
   "metadata": {},
   "outputs": [],
   "source": [
    "corr = df3.corr(method='pearson')"
   ]
  },
  {
   "cell_type": "code",
   "execution_count": 44,
   "id": "c15a33c0",
   "metadata": {},
   "outputs": [
    {
     "data": {
      "text/html": [
       "<div>\n",
       "<style scoped>\n",
       "    .dataframe tbody tr th:only-of-type {\n",
       "        vertical-align: middle;\n",
       "    }\n",
       "\n",
       "    .dataframe tbody tr th {\n",
       "        vertical-align: top;\n",
       "    }\n",
       "\n",
       "    .dataframe thead th {\n",
       "        text-align: right;\n",
       "    }\n",
       "</style>\n",
       "<table border=\"1\" class=\"dataframe\">\n",
       "  <thead>\n",
       "    <tr style=\"text-align: right;\">\n",
       "      <th></th>\n",
       "      <th>review_overall</th>\n",
       "      <th>review_appearance</th>\n",
       "      <th>review_palette</th>\n",
       "      <th>review_taste</th>\n",
       "      <th>review_aroma</th>\n",
       "    </tr>\n",
       "  </thead>\n",
       "  <tbody>\n",
       "    <tr>\n",
       "      <th>review_overall</th>\n",
       "      <td>1.000000</td>\n",
       "      <td>0.614811</td>\n",
       "      <td>0.747209</td>\n",
       "      <td>0.809606</td>\n",
       "      <td>0.873744</td>\n",
       "    </tr>\n",
       "    <tr>\n",
       "      <th>review_appearance</th>\n",
       "      <td>0.614811</td>\n",
       "      <td>1.000000</td>\n",
       "      <td>0.647671</td>\n",
       "      <td>0.659610</td>\n",
       "      <td>0.637411</td>\n",
       "    </tr>\n",
       "    <tr>\n",
       "      <th>review_palette</th>\n",
       "      <td>0.747209</td>\n",
       "      <td>0.647671</td>\n",
       "      <td>1.000000</td>\n",
       "      <td>0.736896</td>\n",
       "      <td>0.813106</td>\n",
       "    </tr>\n",
       "    <tr>\n",
       "      <th>review_taste</th>\n",
       "      <td>0.809606</td>\n",
       "      <td>0.659610</td>\n",
       "      <td>0.736896</td>\n",
       "      <td>1.000000</td>\n",
       "      <td>0.821956</td>\n",
       "    </tr>\n",
       "    <tr>\n",
       "      <th>review_aroma</th>\n",
       "      <td>0.873744</td>\n",
       "      <td>0.637411</td>\n",
       "      <td>0.813106</td>\n",
       "      <td>0.821956</td>\n",
       "      <td>1.000000</td>\n",
       "    </tr>\n",
       "  </tbody>\n",
       "</table>\n",
       "</div>"
      ],
      "text/plain": [
       "                   review_overall  review_appearance  review_palette  \\\n",
       "review_overall           1.000000           0.614811        0.747209   \n",
       "review_appearance        0.614811           1.000000        0.647671   \n",
       "review_palette           0.747209           0.647671        1.000000   \n",
       "review_taste             0.809606           0.659610        0.736896   \n",
       "review_aroma             0.873744           0.637411        0.813106   \n",
       "\n",
       "                   review_taste  review_aroma  \n",
       "review_overall         0.809606      0.873744  \n",
       "review_appearance      0.659610      0.637411  \n",
       "review_palette         0.736896      0.813106  \n",
       "review_taste           1.000000      0.821956  \n",
       "review_aroma           0.821956      1.000000  "
      ]
     },
     "execution_count": 44,
     "metadata": {},
     "output_type": "execute_result"
    }
   ],
   "source": [
    "corr"
   ]
  },
  {
   "cell_type": "code",
   "execution_count": 45,
   "id": "0be7458e",
   "metadata": {},
   "outputs": [
    {
     "data": {
      "text/plain": [
       "<Axes: >"
      ]
     },
     "execution_count": 45,
     "metadata": {},
     "output_type": "execute_result"
    },
    {
     "data": {
      "image/png": "[encoded data removed]",
      "text/plain": [
       "<Figure size 640x480 with 2 Axes>"
      ]
     },
     "metadata": {},
     "output_type": "display_data"
    }
   ],
   "source": [
    "sns.heatmap(corr)"
   ]
  },
  {
   "cell_type": "markdown",
   "id": "2f12d881",
   "metadata": {},
   "source": [
    "Aroma is the most important facor,because it has the highest correlation coefficient with the overall review. Aroma is followed by taste, palette and lastly appearance. "
   ]
  },
  {
   "cell_type": "markdown",
   "id": "f2cb76e2",
   "metadata": {},
   "source": [
    "# Q4. If you were to recommend 3 beers to your friends based on this data, which ones would you recommend?"
   ]
  },
  {
   "cell_type": "markdown",
   "id": "cf6d0eda",
   "metadata": {},
   "source": [
    "We will recommend beerIds with highest ratings and considerable amounts of reviews. "
   ]
  },
  {
   "cell_type": "code",
   "execution_count": 46,
   "id": "5a11f8ee",
   "metadata": {},
   "outputs": [],
   "source": [
    "df4 = df.groupby(['beer_beerId'])['review_overall'].agg(['mean','count'])"
   ]
  },
  {
   "cell_type": "code",
   "execution_count": 47,
   "id": "d8c34e84",
   "metadata": {},
   "outputs": [],
   "source": [
    "df4 = df4.rename(columns={'mean':'review_overall_average', 'count':'no_of_reviews'})"
   ]
  },
  {
   "cell_type": "code",
   "execution_count": 48,
   "id": "7a41611c",
   "metadata": {},
   "outputs": [],
   "source": [
    "df4 = df4.sort_values(by='review_overall_average', ascending=False)"
   ]
  },
  {
   "cell_type": "markdown",
   "id": "0ab91cf5",
   "metadata": {},
   "source": [
    "Let us look at the 5 beers with highest ratings and their review counts."
   ]
  },
  {
   "cell_type": "code",
   "execution_count": 49,
   "id": "a71984fb",
   "metadata": {},
   "outputs": [
    {
     "data": {
      "text/html": [
       "<div>\n",
       "<style scoped>\n",
       "    .dataframe tbody tr th:only-of-type {\n",
       "        vertical-align: middle;\n",
       "    }\n",
       "\n",
       "    .dataframe tbody tr th {\n",
       "        vertical-align: top;\n",
       "    }\n",
       "\n",
       "    .dataframe thead th {\n",
       "        text-align: right;\n",
       "    }\n",
       "</style>\n",
       "<table border=\"1\" class=\"dataframe\">\n",
       "  <thead>\n",
       "    <tr style=\"text-align: right;\">\n",
       "      <th></th>\n",
       "      <th>review_overall_average</th>\n",
       "      <th>no_of_reviews</th>\n",
       "    </tr>\n",
       "    <tr>\n",
       "      <th>beer_beerId</th>\n",
       "      <th></th>\n",
       "      <th></th>\n",
       "    </tr>\n",
       "  </thead>\n",
       "  <tbody>\n",
       "    <tr>\n",
       "      <th>62812</th>\n",
       "      <td>5.0</td>\n",
       "      <td>1</td>\n",
       "    </tr>\n",
       "    <tr>\n",
       "      <th>76563</th>\n",
       "      <td>5.0</td>\n",
       "      <td>1</td>\n",
       "    </tr>\n",
       "    <tr>\n",
       "      <th>54714</th>\n",
       "      <td>5.0</td>\n",
       "      <td>1</td>\n",
       "    </tr>\n",
       "    <tr>\n",
       "      <th>1734</th>\n",
       "      <td>5.0</td>\n",
       "      <td>1</td>\n",
       "    </tr>\n",
       "    <tr>\n",
       "      <th>42766</th>\n",
       "      <td>5.0</td>\n",
       "      <td>1</td>\n",
       "    </tr>\n",
       "  </tbody>\n",
       "</table>\n",
       "</div>"
      ],
      "text/plain": [
       "             review_overall_average  no_of_reviews\n",
       "beer_beerId                                       \n",
       "62812                           5.0              1\n",
       "76563                           5.0              1\n",
       "54714                           5.0              1\n",
       "1734                            5.0              1\n",
       "42766                           5.0              1"
      ]
     },
     "execution_count": 49,
     "metadata": {},
     "output_type": "execute_result"
    }
   ],
   "source": [
    "df4.head(5)"
   ]
  },
  {
   "cell_type": "markdown",
   "id": "f7aa2cd1",
   "metadata": {},
   "source": [
    "Each of them has full rating but only gets one review. It means the rating is pointless. We need to see the distribution of no_of_reviews."
   ]
  },
  {
   "cell_type": "code",
   "execution_count": 50,
   "id": "7addb8c5",
   "metadata": {},
   "outputs": [
    {
     "data": {
      "text/html": [
       "<div>\n",
       "<style scoped>\n",
       "    .dataframe tbody tr th:only-of-type {\n",
       "        vertical-align: middle;\n",
       "    }\n",
       "\n",
       "    .dataframe tbody tr th {\n",
       "        vertical-align: top;\n",
       "    }\n",
       "\n",
       "    .dataframe thead th {\n",
       "        text-align: right;\n",
       "    }\n",
       "</style>\n",
       "<table border=\"1\" class=\"dataframe\">\n",
       "  <thead>\n",
       "    <tr style=\"text-align: right;\">\n",
       "      <th></th>\n",
       "      <th>review_overall_average</th>\n",
       "      <th>no_of_reviews</th>\n",
       "    </tr>\n",
       "  </thead>\n",
       "  <tbody>\n",
       "    <tr>\n",
       "      <th>count</th>\n",
       "      <td>20200.000000</td>\n",
       "      <td>20200.000000</td>\n",
       "    </tr>\n",
       "    <tr>\n",
       "      <th>mean</th>\n",
       "      <td>3.651880</td>\n",
       "      <td>26.181683</td>\n",
       "    </tr>\n",
       "    <tr>\n",
       "      <th>std</th>\n",
       "      <td>0.631110</td>\n",
       "      <td>123.799950</td>\n",
       "    </tr>\n",
       "    <tr>\n",
       "      <th>min</th>\n",
       "      <td>1.000000</td>\n",
       "      <td>1.000000</td>\n",
       "    </tr>\n",
       "    <tr>\n",
       "      <th>25%</th>\n",
       "      <td>3.399774</td>\n",
       "      <td>1.000000</td>\n",
       "    </tr>\n",
       "    <tr>\n",
       "      <th>50%</th>\n",
       "      <td>3.750000</td>\n",
       "      <td>2.000000</td>\n",
       "    </tr>\n",
       "    <tr>\n",
       "      <th>75%</th>\n",
       "      <td>4.000000</td>\n",
       "      <td>7.000000</td>\n",
       "    </tr>\n",
       "    <tr>\n",
       "      <th>max</th>\n",
       "      <td>5.000000</td>\n",
       "      <td>3000.000000</td>\n",
       "    </tr>\n",
       "  </tbody>\n",
       "</table>\n",
       "</div>"
      ],
      "text/plain": [
       "       review_overall_average  no_of_reviews\n",
       "count            20200.000000   20200.000000\n",
       "mean                 3.651880      26.181683\n",
       "std                  0.631110     123.799950\n",
       "min                  1.000000       1.000000\n",
       "25%                  3.399774       1.000000\n",
       "50%                  3.750000       2.000000\n",
       "75%                  4.000000       7.000000\n",
       "max                  5.000000    3000.000000"
      ]
     },
     "execution_count": 50,
     "metadata": {},
     "output_type": "execute_result"
    }
   ],
   "source": [
    "df4.describe()"
   ]
  },
  {
   "cell_type": "code",
   "execution_count": 51,
   "id": "2dc7c12a",
   "metadata": {},
   "outputs": [
    {
     "data": {
      "text/plain": [
       "<Axes: >"
      ]
     },
     "execution_count": 51,
     "metadata": {},
     "output_type": "execute_result"
    },
    {
     "data": {
      "image/png": "[encoded data removed]",
      "text/plain": [
       "<Figure size 640x480 with 1 Axes>"
      ]
     },
     "metadata": {},
     "output_type": "display_data"
    }
   ],
   "source": [
    "df4['no_of_reviews'].hist(bins=50)"
   ]
  },
  {
   "cell_type": "markdown",
   "id": "6f9db147",
   "metadata": {},
   "source": [
    "Most of counts fall under 500. We should choose a cutoff no_of_review number, above which the corresponding rating is acceptable. How about 200?"
   ]
  },
  {
   "cell_type": "code",
   "execution_count": 52,
   "id": "58dd1e32",
   "metadata": {},
   "outputs": [
    {
     "data": {
      "text/html": [
       "<div>\n",
       "<style scoped>\n",
       "    .dataframe tbody tr th:only-of-type {\n",
       "        vertical-align: middle;\n",
       "    }\n",
       "\n",
       "    .dataframe tbody tr th {\n",
       "        vertical-align: top;\n",
       "    }\n",
       "\n",
       "    .dataframe thead th {\n",
       "        text-align: right;\n",
       "    }\n",
       "</style>\n",
       "<table border=\"1\" class=\"dataframe\">\n",
       "  <thead>\n",
       "    <tr style=\"text-align: right;\">\n",
       "      <th></th>\n",
       "      <th>review_overall_average</th>\n",
       "      <th>no_of_reviews</th>\n",
       "    </tr>\n",
       "    <tr>\n",
       "      <th>beer_beerId</th>\n",
       "      <th></th>\n",
       "      <th></th>\n",
       "    </tr>\n",
       "  </thead>\n",
       "  <tbody>\n",
       "    <tr>\n",
       "      <th>56082</th>\n",
       "      <td>4.630952</td>\n",
       "      <td>252</td>\n",
       "    </tr>\n",
       "    <tr>\n",
       "      <th>16814</th>\n",
       "      <td>4.625800</td>\n",
       "      <td>469</td>\n",
       "    </tr>\n",
       "    <tr>\n",
       "      <th>47658</th>\n",
       "      <td>4.591052</td>\n",
       "      <td>637</td>\n",
       "    </tr>\n",
       "    <tr>\n",
       "      <th>6368</th>\n",
       "      <td>4.488671</td>\n",
       "      <td>662</td>\n",
       "    </tr>\n",
       "    <tr>\n",
       "      <th>2899</th>\n",
       "      <td>4.432056</td>\n",
       "      <td>287</td>\n",
       "    </tr>\n",
       "    <tr>\n",
       "      <th>19960</th>\n",
       "      <td>4.397516</td>\n",
       "      <td>1932</td>\n",
       "    </tr>\n",
       "    <tr>\n",
       "      <th>15881</th>\n",
       "      <td>4.395652</td>\n",
       "      <td>1955</td>\n",
       "    </tr>\n",
       "    <tr>\n",
       "      <th>8954</th>\n",
       "      <td>4.373278</td>\n",
       "      <td>363</td>\n",
       "    </tr>\n",
       "    <tr>\n",
       "      <th>37586</th>\n",
       "      <td>4.371233</td>\n",
       "      <td>365</td>\n",
       "    </tr>\n",
       "    <tr>\n",
       "      <th>47022</th>\n",
       "      <td>4.365967</td>\n",
       "      <td>429</td>\n",
       "    </tr>\n",
       "  </tbody>\n",
       "</table>\n",
       "</div>"
      ],
      "text/plain": [
       "             review_overall_average  no_of_reviews\n",
       "beer_beerId                                       \n",
       "56082                      4.630952            252\n",
       "16814                      4.625800            469\n",
       "47658                      4.591052            637\n",
       "6368                       4.488671            662\n",
       "2899                       4.432056            287\n",
       "19960                      4.397516           1932\n",
       "15881                      4.395652           1955\n",
       "8954                       4.373278            363\n",
       "37586                      4.371233            365\n",
       "47022                      4.365967            429"
      ]
     },
     "execution_count": 52,
     "metadata": {},
     "output_type": "execute_result"
    }
   ],
   "source": [
    "df4[df4['no_of_reviews']>200].head(10)"
   ]
  },
  {
   "cell_type": "markdown",
   "id": "d7de8cfa",
   "metadata": {},
   "source": [
    "Here are the three beer ids: 56082, 16814 and 47658. Their complete information are as follows:"
   ]
  },
  {
   "cell_type": "code",
   "execution_count": 53,
   "id": "0389b3f7",
   "metadata": {},
   "outputs": [
    {
     "data": {
      "text/html": [
       "<div>\n",
       "<style scoped>\n",
       "    .dataframe tbody tr th:only-of-type {\n",
       "        vertical-align: middle;\n",
       "    }\n",
       "\n",
       "    .dataframe tbody tr th {\n",
       "        vertical-align: top;\n",
       "    }\n",
       "\n",
       "    .dataframe thead th {\n",
       "        text-align: right;\n",
       "    }\n",
       "</style>\n",
       "<table border=\"1\" class=\"dataframe\">\n",
       "  <thead>\n",
       "    <tr style=\"text-align: right;\">\n",
       "      <th></th>\n",
       "      <th>beer_ABV</th>\n",
       "      <th>beer_beerId</th>\n",
       "      <th>beer_brewerId</th>\n",
       "      <th>beer_name</th>\n",
       "      <th>beer_style</th>\n",
       "      <th>review_appearance</th>\n",
       "      <th>review_palette</th>\n",
       "      <th>review_overall</th>\n",
       "      <th>review_taste</th>\n",
       "      <th>review_profileName</th>\n",
       "      <th>review_aroma</th>\n",
       "      <th>review_text</th>\n",
       "      <th>review_time</th>\n",
       "      <th>review_year</th>\n",
       "    </tr>\n",
       "  </thead>\n",
       "  <tbody>\n",
       "    <tr>\n",
       "      <th>16176</th>\n",
       "      <td>10.6</td>\n",
       "      <td>47658</td>\n",
       "      <td>1199</td>\n",
       "      <td>Founders CBS Imperial Stout</td>\n",
       "      <td>American Double / Imperial Stout</td>\n",
       "      <td>4.5</td>\n",
       "      <td>4.5</td>\n",
       "      <td>4.5</td>\n",
       "      <td>5.0</td>\n",
       "      <td>ColForbinBC</td>\n",
       "      <td>4.5</td>\n",
       "      <td>750mL bottle poured into a snifter Pours an in...</td>\n",
       "      <td>1321818225</td>\n",
       "      <td>2011</td>\n",
       "    </tr>\n",
       "    <tr>\n",
       "      <th>334853</th>\n",
       "      <td>8.0</td>\n",
       "      <td>56082</td>\n",
       "      <td>14064</td>\n",
       "      <td>Citra DIPA</td>\n",
       "      <td>American Double / Imperial IPA</td>\n",
       "      <td>4.0</td>\n",
       "      <td>4.5</td>\n",
       "      <td>4.5</td>\n",
       "      <td>4.0</td>\n",
       "      <td>IdrinkGas</td>\n",
       "      <td>4.5</td>\n",
       "      <td>Poured from a bomber into a Lost Abbey tulip. ...</td>\n",
       "      <td>1314513820</td>\n",
       "      <td>2011</td>\n",
       "    </tr>\n",
       "    <tr>\n",
       "      <th>378400</th>\n",
       "      <td>8.0</td>\n",
       "      <td>16814</td>\n",
       "      <td>27039</td>\n",
       "      <td>Heady Topper</td>\n",
       "      <td>American Double / Imperial IPA</td>\n",
       "      <td>4.5</td>\n",
       "      <td>5.0</td>\n",
       "      <td>4.5</td>\n",
       "      <td>4.5</td>\n",
       "      <td>onefmatt</td>\n",
       "      <td>4.5</td>\n",
       "      <td>A+ in my book, just a fantastic and well round...</td>\n",
       "      <td>1321078004</td>\n",
       "      <td>2011</td>\n",
       "    </tr>\n",
       "  </tbody>\n",
       "</table>\n",
       "</div>"
      ],
      "text/plain": [
       "        beer_ABV  beer_beerId  beer_brewerId                    beer_name  \\\n",
       "16176       10.6        47658           1199  Founders CBS Imperial Stout   \n",
       "334853       8.0        56082          14064                   Citra DIPA   \n",
       "378400       8.0        16814          27039                 Heady Topper   \n",
       "\n",
       "                              beer_style  review_appearance  review_palette  \\\n",
       "16176   American Double / Imperial Stout                4.5             4.5   \n",
       "334853    American Double / Imperial IPA                4.0             4.5   \n",
       "378400    American Double / Imperial IPA                4.5             5.0   \n",
       "\n",
       "        review_overall  review_taste review_profileName  review_aroma  \\\n",
       "16176              4.5           5.0        ColForbinBC           4.5   \n",
       "334853             4.5           4.0          IdrinkGas           4.5   \n",
       "378400             4.5           4.5           onefmatt           4.5   \n",
       "\n",
       "                                              review_text  review_time  \\\n",
       "16176   750mL bottle poured into a snifter Pours an in...   1321818225   \n",
       "334853  Poured from a bomber into a Lost Abbey tulip. ...   1314513820   \n",
       "378400  A+ in my book, just a fantastic and well round...   1321078004   \n",
       "\n",
       "        review_year  \n",
       "16176          2011  \n",
       "334853         2011  \n",
       "378400         2011  "
      ]
     },
     "execution_count": 53,
     "metadata": {},
     "output_type": "execute_result"
    }
   ],
   "source": [
    "df[(df['beer_beerId']==56082) | (df['beer_beerId']==16814) | (df['beer_beerId']==47658)].drop_duplicates(subset=\"beer_beerId\")"
   ]
  },
  {
   "cell_type": "markdown",
   "id": "58a12550",
   "metadata": {},
   "source": [
    "# Q5. Which beer style seems to be the favourite based on the reviews written by users? How does written reviews compare to overall review score for the beer style?"
   ]
  },
  {
   "cell_type": "code",
   "execution_count": 22,
   "id": "a42dcda6",
   "metadata": {},
   "outputs": [
    {
     "data": {
      "text/plain": [
       "True"
      ]
     },
     "execution_count": 22,
     "metadata": {},
     "output_type": "execute_result"
    }
   ],
   "source": [
    "download('vader_lexicon', quiet=True)"
   ]
  },
  {
   "cell_type": "code",
   "execution_count": 23,
   "id": "19ec379f",
   "metadata": {},
   "outputs": [],
   "source": [
    "analyser = SentimentIntensityAnalyzer()"
   ]
  },
  {
   "cell_type": "code",
   "execution_count": 24,
   "id": "5591d510",
   "metadata": {},
   "outputs": [],
   "source": [
    "df_new5 = df\n",
    "df_new5['review_sentiment'] = df_new5['review_text'].apply(lambda x: analyser.polarity_scores(text=x)['compound'])"
   ]
  },
  {
   "cell_type": "code",
   "execution_count": 28,
   "id": "ecb39c6d",
   "metadata": {},
   "outputs": [
    {
     "data": {
      "text/html": [
       "<div>\n",
       "<style scoped>\n",
       "    .dataframe tbody tr th:only-of-type {\n",
       "        vertical-align: middle;\n",
       "    }\n",
       "\n",
       "    .dataframe tbody tr th {\n",
       "        vertical-align: top;\n",
       "    }\n",
       "\n",
       "    .dataframe thead th {\n",
       "        text-align: right;\n",
       "    }\n",
       "</style>\n",
       "<table border=\"1\" class=\"dataframe\">\n",
       "  <thead>\n",
       "    <tr style=\"text-align: right;\">\n",
       "      <th></th>\n",
       "      <th>mean</th>\n",
       "      <th>count</th>\n",
       "    </tr>\n",
       "    <tr>\n",
       "      <th>beer_style</th>\n",
       "      <th></th>\n",
       "      <th></th>\n",
       "    </tr>\n",
       "  </thead>\n",
       "  <tbody>\n",
       "    <tr>\n",
       "      <th>Quadrupel (Quad)</th>\n",
       "      <td>0.857887</td>\n",
       "      <td>4934</td>\n",
       "    </tr>\n",
       "    <tr>\n",
       "      <th>Dortmunder / Export Lager</th>\n",
       "      <td>0.852428</td>\n",
       "      <td>1809</td>\n",
       "    </tr>\n",
       "    <tr>\n",
       "      <th>Braggot</th>\n",
       "      <td>0.850789</td>\n",
       "      <td>199</td>\n",
       "    </tr>\n",
       "    <tr>\n",
       "      <th>Flanders Red Ale</th>\n",
       "      <td>0.849521</td>\n",
       "      <td>2858</td>\n",
       "    </tr>\n",
       "    <tr>\n",
       "      <th>American Double / Imperial Stout</th>\n",
       "      <td>0.847821</td>\n",
       "      <td>23354</td>\n",
       "    </tr>\n",
       "    <tr>\n",
       "      <th>...</th>\n",
       "      <td>...</td>\n",
       "      <td>...</td>\n",
       "    </tr>\n",
       "    <tr>\n",
       "      <th>Happoshu</th>\n",
       "      <td>0.533456</td>\n",
       "      <td>55</td>\n",
       "    </tr>\n",
       "    <tr>\n",
       "      <th>American Malt Liquor</th>\n",
       "      <td>0.524613</td>\n",
       "      <td>1411</td>\n",
       "    </tr>\n",
       "    <tr>\n",
       "      <th>Japanese Rice Lager</th>\n",
       "      <td>0.519356</td>\n",
       "      <td>496</td>\n",
       "    </tr>\n",
       "    <tr>\n",
       "      <th>Light Lager</th>\n",
       "      <td>0.468699</td>\n",
       "      <td>4472</td>\n",
       "    </tr>\n",
       "    <tr>\n",
       "      <th>Low Alcohol Beer</th>\n",
       "      <td>0.441164</td>\n",
       "      <td>219</td>\n",
       "    </tr>\n",
       "  </tbody>\n",
       "</table>\n",
       "<p>104 rows × 2 columns</p>\n",
       "</div>"
      ],
      "text/plain": [
       "                                      mean  count\n",
       "beer_style                                       \n",
       "Quadrupel (Quad)                  0.857887   4934\n",
       "Dortmunder / Export Lager         0.852428   1809\n",
       "Braggot                           0.850789    199\n",
       "Flanders Red Ale                  0.849521   2858\n",
       "American Double / Imperial Stout  0.847821  23354\n",
       "...                                    ...    ...\n",
       "Happoshu                          0.533456     55\n",
       "American Malt Liquor              0.524613   1411\n",
       "Japanese Rice Lager               0.519356    496\n",
       "Light Lager                       0.468699   4472\n",
       "Low Alcohol Beer                  0.441164    219\n",
       "\n",
       "[104 rows x 2 columns]"
      ]
     },
     "execution_count": 28,
     "metadata": {},
     "output_type": "execute_result"
    }
   ],
   "source": [
    "df_new5.groupby(['beer_style'])['review_sentiment'].agg(func=['mean', 'count']).sort_values(by='mean', ascending=False)"
   ]
  },
  {
   "cell_type": "markdown",
   "id": "c05ccf56",
   "metadata": {},
   "source": [
    "Quadrupel (Quad) is the most favorite beer style and its number of reviews also tops among others. "
   ]
  },
  {
   "cell_type": "code",
   "execution_count": 30,
   "id": "14b4955d",
   "metadata": {},
   "outputs": [],
   "source": [
    "df5 = df_new5[df_new5['beer_style'] == 'Quadrupel (Quad)']"
   ]
  },
  {
   "cell_type": "code",
   "execution_count": 31,
   "id": "abfdf26c",
   "metadata": {},
   "outputs": [
    {
     "data": {
      "text/html": [
       "<div>\n",
       "<style scoped>\n",
       "    .dataframe tbody tr th:only-of-type {\n",
       "        vertical-align: middle;\n",
       "    }\n",
       "\n",
       "    .dataframe tbody tr th {\n",
       "        vertical-align: top;\n",
       "    }\n",
       "\n",
       "    .dataframe thead th {\n",
       "        text-align: right;\n",
       "    }\n",
       "</style>\n",
       "<table border=\"1\" class=\"dataframe\">\n",
       "  <thead>\n",
       "    <tr style=\"text-align: right;\">\n",
       "      <th></th>\n",
       "      <th>review_sentiment</th>\n",
       "      <th>review_overall</th>\n",
       "    </tr>\n",
       "  </thead>\n",
       "  <tbody>\n",
       "    <tr>\n",
       "      <th>review_sentiment</th>\n",
       "      <td>1.000000</td>\n",
       "      <td>0.258732</td>\n",
       "    </tr>\n",
       "    <tr>\n",
       "      <th>review_overall</th>\n",
       "      <td>0.258732</td>\n",
       "      <td>1.000000</td>\n",
       "    </tr>\n",
       "  </tbody>\n",
       "</table>\n",
       "</div>"
      ],
      "text/plain": [
       "                  review_sentiment  review_overall\n",
       "review_sentiment          1.000000        0.258732\n",
       "review_overall            0.258732        1.000000"
      ]
     },
     "execution_count": 31,
     "metadata": {},
     "output_type": "execute_result"
    }
   ],
   "source": [
    "df5[[\"review_sentiment\", \"review_overall\"]].corr()"
   ]
  },
  {
   "cell_type": "code",
   "execution_count": 33,
   "id": "46e53feb",
   "metadata": {},
   "outputs": [
    {
     "data": {
      "text/plain": [
       "<Axes: >"
      ]
     },
     "execution_count": 33,
     "metadata": {},
     "output_type": "execute_result"
    },
    {
     "data": {
      "image/png": "[encoded data removed]",
      "text/plain": [
       "<Figure size 640x480 with 2 Axes>"
      ]
     },
     "metadata": {},
     "output_type": "display_data"
    }
   ],
   "source": [
    "sns.heatmap(data=df5[[\n",
    "    \"review_overall\",\n",
    "    \"review_appearance\",\n",
    "    \"review_aroma\",\n",
    "    \"review_taste\",\n",
    "    \"review_palette\",\n",
    "    \"review_sentiment\"\n",
    "]].corr(), annot=True)"
   ]
  },
  {
   "cell_type": "markdown",
   "id": "786445d3",
   "metadata": {},
   "source": [
    "The correlation between review_sentiment and review_overall is 0.26, positive but low. It means two things:\n",
    "1. The better the review, the higher the score.\n",
    "2. People may give a high rating but leave a neutral comment."
   ]
  }
 ],
 "metadata": {
  "kernelspec": {
   "display_name": "Python 3 (ipykernel)",
   "language": "python",
   "name": "python3"
  },
  "language_info": {
   "codemirror_mode": {
    "name": "ipython",
    "version": 3
   },
   "file_extension": ".py",
   "mimetype": "text/x-python",
   "name": "python",
   "nbconvert_exporter": "python",
   "pygments_lexer": "ipython3",
   "version": "3.10.9"
  }
 },
 "nbformat": 4,
 "nbformat_minor": 5
}
